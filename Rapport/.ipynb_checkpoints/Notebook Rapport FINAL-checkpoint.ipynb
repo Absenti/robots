{
 "cells": [
  {
   "cell_type": "markdown",
   "metadata": {},
   "source": [
    "# Dynamique humaine"
   ]
  },
  {
   "cell_type": "markdown",
   "metadata": {},
   "source": [
    "### Objet d'étude - La répartition des emplois en fonction du phénomène de robotisation"
   ]
  },
  {
   "cell_type": "markdown",
   "metadata": {},
   "source": [
    "## Sommaire :\n",
    "\n",
    "   **1**. Résumé\n",
    "   \n",
    "   **2**. Problèmes et hypothèses\n",
    "   \n",
    "   **3**. Détail et solution retenues\n",
    "   \n",
    "   **4**. Contributions, explications\n",
    "   \n",
    "   **5**. Expérimentations\n",
    "   \n",
    "   **6**. Conclusion\n",
    "   \n",
    "   **7**. Bibliographie et sitographie"
   ]
  },
  {
   "cell_type": "markdown",
   "metadata": {},
   "source": [
    "### 1. Résume"
   ]
  },
  {
   "cell_type": "markdown",
   "metadata": {},
   "source": [
    "#### 1.1. Résumé en francais :\n",
    "\n",
    "Notre travail est centré sur les effets de la robotisation et de l'autimatisation des métiers sur le marche du travail. En effet, nous vivons à une époque charnière durant laquelle l'homme se détache de plus en plus des taches répétitives et pénibles, laissant sa place à des automates à la fois plus efficaces et rentables que leurs prédécesseurs. Nous voulons alors simuler de la manière la plus crédible l'évolution de la répartition des emplois de plusieurs secteurs à la fois sur le court, moyen et long terme. Il s'agit d'une simulation assez difficile à réaliser puisque d'après certains professionnels en statistiques, les effets à venir de la robotisation sont très difficiles à évaluer mais auront sans aucun doute un impact important sur les générations à venir.\n",
    "\n",
    "#### 1.2. Résumé en anglais :\n",
    "\n",
    "Our work is centered around the impact of automatization and robotization on the modern-era jobs. We live in a time where mankind has decided to leave the dirty and repetitive tasks to robots, who are in many ways superiors to their predecessors due to a better productivity and are cheaper than the aging workforce. Our goal is to predict in the most realistic way the evolution of the job repartition between men and machines in either a short, medium or long period of time. By focusing our researches on the different elements ruling this evolution like for instance, by how many times is a robot more efficient than your average human, we realized that we are facing a rather difficult subject because even professionals in the statistic domain can't figure out the odds of specific scenarios to occur, we know for a fact than robotization will have a major influence on the upcoming generations."
   ]
  },
  {
   "cell_type": "markdown",
   "metadata": {},
   "source": [
    "### 2.Problèmes et hypothèses"
   ]
  },
  {
   "cell_type": "markdown",
   "metadata": {},
   "source": [
    "#### 2.1. Les problèmes que nous avons rencontré :\n",
    "\n",
    "Le premier problème principal auquel nous avons du faire face fut le suivant : de quelle manière pouvons-nous représenter les variations en terme de perte et d'obtention d'emplois en parallèle à l'introduction sur le marche du travail de robots, d'automates, plus performants ? La population humaine augmentant constamment signifie que de nouvelles personnes arrivent sur le marché du travail de manière mais de l'autre coté, le développement de nouvelles technologies donne jour à de nouveaux automates plus performants jour après jour (perfection de l'IA, des compétences automatiques, ...).\n",
    "\n",
    "Par la suite, le second problème principal fut la selection et l'initialisation de certaines variables considérés comme paramètres clés lors de nos simulations. Il est impossible de donner une probabilité fiable au fait qu'un homme (ou qu'un groupe d'homme) se fasse remplacer par un robot. Après avoir réalisé quelques sondages et effectué de nombreuses recherches, nous avons obtenus des valeurs ne convenant par forcément à nos attentes, ce qui a fortement ralenti dans notre progression générale.\n",
    "\n",
    "#### 2.2. Les hypothèses émises suite à la reflexion générale :\n",
    "\n",
    "Des hypothèses font alors leurs apparitions puisque en cherchant à y répondre, nous nous rapprocherons de plus en plus de notre objectif de la simulation quasi-réaliste. \n",
    "\n",
    "Nous nous demandons alors si nous pouvons déterminer un nombre fixe, en fonction du domaine étudié, de personnes pouvant etre remplacées par un robot. Ce nombre nous permettra de générer des simulations rapides et non-complexes et d'évaluer une première de quelle manière la répartition des emplois est faite. En effet, pouvoir éliminer des groupes d'individus fixes permet de ne pas trop se prendre la tete et de pouvoir travailler sur des répertoires faciles, comme des listes ou grilles, permettant un affichage de l'information de manière statistique ou concrète (de manière visible) respectivement.\n",
    "\n",
    "Egalement, nous nous demandons si la rentabilité ou l'efficacité sont les seuls réels paramètres que nous devons prendre en compte, puisque sur le long terme, qu'il s'agisse d'un homme ou d'un robot, des couts supplémentaires sont nécéssaires. Dans le cas de l'homme, les maladies, congés payés et primes par exemple, représentent des frais conséquents pour les chefs d'entreprises. Dans le cas des robots, les maintenances régulières afin d'assurer un bon fonctionnement ou l'achats de pièces détachés lors de pannes importantes, voir carrément dans certains cas le remplacement complet d'un robot.\n",
    "\n",
    "Une dernière hypothèse émerge suite a notre réflexion générale. Le rapport homme à homme peut-il représenter une nécessité dans certains domaines, dont un des plus important est l'éducation à tout niveaux ? Il serait difficile pour une machine de reproduire des emotions ou réactions humaines et de ce fait, certains métiers ne seraient accessible qu'aux hommes, assurant ainsi une inexistance quasi-certaine d'automates."
   ]
  },
  {
   "cell_type": "markdown",
   "metadata": {},
   "source": [
    "### 3. Détail et solutions retenues"
   ]
  },
  {
   "cell_type": "markdown",
   "metadata": {},
   "source": [
    "#### 3.1. Détails à propos de notre travail :"
   ]
  },
  {
   "cell_type": "markdown",
   "metadata": {},
   "source": [
    "Nous avons décidé de mettre au clair une chose que nous jugeons fondamentale avant de pouvoir commencer toute simulation sur n'importe quel domaine. On considère un emploi occupé par un robot si et seulement si il n'existe aucune influence humaine directe dans ses actions. Nous nous expliquons; dans le cas classique d'une action automatisée, une série de taches est affectée par un homme au robot afin qu'il puisse effectuer son travail mais il ne s'agit la pas d'une influence directe mais indirecte. Une influence directe signifierait qu'une action humaine est nécéssaire lors des taches du robot afin qu'il puisse mener à bien sa mission.\n",
    "Alors, on considère tout emploi occupé par un homme tout ceux ne remplissont pas la condition précédente. Si un homme doit se servir d'une machine afin d'effectuer son travail, on considère tout de meme ce travail occupé par un homme puisque son action est directe.\n",
    "\n",
    "Ainsi, nous pouvons sélectionner les secteurs de travail nous paraissant les plus intéressants à étudier et éliminer ceux allant nous poser d'importants problèmes lors de l'écriture d'un code approprié, ceux ne possedant pas assez de données afin de réaliser ou des simulations ou ceux qui n'apporteront pas des simulations d'une importance suffisante afin d'etre étudiée."
   ]
  },
  {
   "cell_type": "markdown",
   "metadata": {},
   "source": [
    "#### 3.2. Solutions retenues afin de réaliser nos simulations :"
   ]
  },
  {
   "cell_type": "markdown",
   "metadata": {},
   "source": [
    "Suite à une concertation générale, nous sommes arrivés à la conclusion que notre travail devait etre orienté vers des formes de simulation facilement compréhensibles et lisibles.\n",
    "De ce fait, nous avons réparti différentes formes de simulation au sein du groupe, que chacun aura la tache d'étudier et d'en évaluer la pertinence. Nous avons alors retenus les formes de simulation suivantes :\n",
    "* un usage de grille afin de représenter une évolution des effectifs.\n",
    "* des graphiques (\"plot\") allant permettre de mettre en avant l'information de manière plus efficace.\n",
    "* des données numériques obtenues en \"return\" de fonction allant etre utilisées dans différents secteurs.\n",
    "\n",
    "Nous avons également décidé d'étudier les secteurs suivants : l'industrie et la répartition homme-robot au sein d'usines, les métiers du transports étant très affectés par la robotisation et la finance, puisqu'elle permet de réguler et d'expliquer l'entrée en action de robots ou d'hommes en fonction de la situation."
   ]
  },
  {
   "cell_type": "markdown",
   "metadata": {},
   "source": [
    "### 4. Contributions et explications"
   ]
  },
  {
   "cell_type": "markdown",
   "metadata": {},
   "source": [
    "Nous avons réaliser une répartition des taches au sein du groupe de telle sorte à ce que chaque personne puisse étudier un secteur différent ou des méthodes de simulations différentes. De ce fait, la partie **\"Contributions et explications\"** sera séparée en 4 grandes parties, chacune attribuée à chaque membre de notre groupe.\n",
    "\n",
    "**Almehdi Krisni, responsable des notebooks et des simulations concernant l'industrie:**\n",
    "\n",
    "Mon travail est centré autour de la simulation des effectifs au sein d'une usine et la répartition des emplois entre hommes et robots.\n",
    "\n",
    "Afin de diriger mon travail vers l'objectif principal de mon groupe, étant la réalisation d'une simulation la plis réaliste possible, je me suis posé les questions suivantes :\n",
    "* Un nombre fixe d'hommes remplacables par un robot peut-il etre fixé de manière réaliste ?\n",
    "* Une probabilité fixe que ces hommes se fassent remplacer par le (les) robot(s) peut-elle etre également fixée de manière réaliste ?\n",
    "\n",
    "Pour pouvoir obtenir plus de visibilité sur les simulations engendrées, j'ai décidé de travailler sur des listes. Le fonctionnement de certaines listes étant assez compliqué, je me suis alors tourné vers les grilles. Les grilles sont idéales afin de représenter les employés d'une usine puisque chaque ligne ou colonne peut etre associée à une chaine de production. A chaque étape de la simulation, nous obtenons alors des variations visibles qui permettent d'apercevoir d'une meilleure manière les effets de la robotisation sur les métiers aux actions répétitives.\n",
    "\n",
    "Dans un premier temps, je ne me suis concentré que sur une probabilité fixe (que des hommes se fassent remplacer par un (des) robot(s)) ne variant pas au cours du temps. De cette facon, on ignore tout progrès de la robotique, les différences d'aptitudes entre un homme et un robot ou le capital financier de l'usine étudiée. Ces paramètres seront pour la majorité d'entre eux pris en compte par la suite.\n",
    "Grace aux grilles, on s'apercoit plis rapidement des modifications au niveau de la répartition des emplois entre hommes et robots. \n",
    "\n",
    "Par la suite, je décide de prendre en compte les progrès de la robotique en permettant à la probabilité que les hommes se fassent remplacer par un ou plusieurs automates d'augmenter (ou diminuer, mais c'est assez rare) de manière aléatoire chaque année. On s'apercoit que cette augmentation n'est pas réellement significative puisque d'années en années, le nombre d'homme diminue de manière ralentie (la diminution la plus importante a toujours lieu la première année et la moins importante a toujours lieu la dernière année) ce qui est logique puisque moins il y'a d'hommes, plus l'espérance du nombre d'hommes remplacés par année est faible.\n",
    "\n",
    "Le modèle reste tout de meme défaillant et loin de la réalité puisque il est impossible d'attribuer une valeur réaliste aux paramètres utilisés. Par la suite, en mettant en liaison toute nos parties, nous avons réussi à créer une fonction générale, la **\"Master Fonction\"**, permettant de créer le modèle de simulation le plus réaliste possible.\n",
    "\n",
    "**Xavier Moissinac, responsable de la simulation concernant les métiers du transport :**\n",
    "\n",
    "Ma partie se base sur les deux hypothèses suivantes:\n",
    "\n",
    "* *Hypothèse 1 : Chaque année, on remplace, ou non, un robot par un humain ou inversement.*\n",
    "\n",
    "* *Hypothèse 2 : à prix ou salaire égale, on prend un robot à la place d'un humain parce qu'il a un rendement plus élevé.*\n",
    "\n",
    "Dans un premier temps, j'ai réalisé une fonction de base prenant en compte 4 paramètres: le nombre d'années **\"n\"**, le nombre de place, le salaire d'un humain et le prix d'un robot. Pour plus de réalisme, j'ai également pris en compte le coût total du robot qui correspond au prix du robot auquel on ajoute le coût de réparation au bout d'un nombre d'année appelée espérance. On va ensuite le comparer au coût total d'un humain qui correspond, quant à lui, au salaire de l'humain multiplié par un facteur égal à l'espérance.\n",
    "On l'intègre ensuite à la fonction de base que l'on renomme \"new_evolution\".\n",
    " \n",
    "Cependant, le prix du robot ne varie pas. On va donc le faire varier avec la fonction evolution_prix qui prend en paramètre le prix du robot et le nombre d'années. \n",
    "Je l'intègre alors dans la fonction précédente que je renomme remplacement.\n",
    "    \n",
    "Nous améliorons encore la fonction en supposant que si l'humain coûte moins cher, on remplace le robot par l'humain. \n",
    "A présent, nous allons de nouveau améliorer cette fonction en supposant que le salaire de l'humain chute brutalement au bout d'une année **\"n2\"** et à partir de cette année **\"n2\"** le salaire de l'humain augmente de manière aléatoire jusqu'à une date **\"n3\"** et à partir de cette date le salaire varie de maniere aléatoire.\n",
    "   \n",
    "**Mohamed Badriouiche, responsable des simulations à évolution linéaire ou exponentielle :**\n",
    "\n",
    "Mon but est de pouvoir prévoir l'évolution des robots selon les données des années précédentes.\n",
    "En effet, j'ai un nombre (d'humains ou de robots) associé à chaque année sur un graphique, à partir de cela, je définis une droite passant au plus près de chaque point.\n",
    "\n",
    "Pour cela, j'effectue une régression grâce à des fonctions de **\"SCIPY\"** et **\"NUMPY\"**.\n",
    "\n",
    "Dans un premier cas, si l'évolution des années précédentes semble linéaire, j'utilise la fonction **\"linregress\"** de **\"Scipy.stats\"** qui me permet d'obtenir la valeur de a et b, tel que y = a * x + b, avec y le nombre d'humain ou robot, associé à x l'année. \n",
    "\n",
    "Dans le second cas, lorsque l'évolution des années précédentes semble exponentielle, ce qui est souvent le cas concernant les robots, je peux soit utiliser la fonction linregress , soit profiter de la fonction polyfit de numpy, le tout en passant en log le nombre d'humain ou robot de chaque année. J'obtiens ainsi a et b tel que ma courbe soit de la forme y = exp(a * x + b).\n",
    "\n",
    "Néanmoins, il se peut que les robots aient du mal à prendre place due à la méconnaissance de leur fonctionnement, pour cela je crée une fonction **\"decroit_lineaire_to_expo\"** qui fait dépendre l'évolution des humains selon celle des robots, à partir de leur point d'intersection.\n",
    "\n",
    "**Zlatan Gojak, responsable des études sur le capital des entreprises fabricantes de robots :**\n",
    "\n",
    "Dans cette partie, on va s’intéresser a une entreprise/industrie qui va produire tout ses robots. Avec une grande demande de robots qui augmente chaque jour, il y a de plus en plus de industries qui en produisent. Le prix moyen d’un robot industriel est de 120 000 euros, qui peut créer un énorme capital pour les industries dans les années qui suivent.\n",
    "\n",
    "Le but de cette partie est de faire une modalisation la plus précise du capital d’une industrie qui produit des robots. L’idée derrière cela était de faire une fonction de base, qui représentait l’évolution du capital et au cours du temps la modifier en rajoutant des fonction et paramètres. Le résultat final qu’on attend est une fonction main qui se rapproche le plus possible d’une situation réelle.\n",
    "\n",
    "Cette première fonction de base ne prenait pas beaucoup de paramètres, uniquement le prix d’un robot, le budget initial de l’industrie, et le nombre d’années qui nous intéresse. Il y avait une chance sur deux de vendre un robot.\n",
    "Cette fonction ne représentait pas une situation réelle, et pour cela on a rajouté d’autres paramètres comme la demande et les concurrents. L’idée derrière cela est plutôt simple: S’il on augmente la demande, la probabilités de vendre un robot augmentait. On obtient le résultat inverse si on fait de même pour les concurrents. On a également rajouté les frais de production et tout autres types de frais au niveau annuel.\n",
    "\n",
    "On n’était toujours pas satisfait avec cela, comme la demande et les concurrents étaient stables, et ne variaient pas. C’est pourquoi, chaque an il existe 20% de chance que la demande va augmenter, et de même pour les concurrents. A ce point le graphique représentatif devenait de plus en plus réel. Comme bonus on a rajouté une probabilité de 1% qu’il y ait une révolution industrielle qui va diminuer les frais de production de 30% ou une crise économique qui va drastiquement diminuer la demande. \n",
    "\n",
    "A ce point on a décidé de rajouter l’évolution du prix d’un robot. On a fait cette fonction a part, et on l’a un peu modifié pour pouvoir l'utiliser dans notre fonction principale. On a essayé de prendre en compte que le prix du robot va diminuer au cours temps. Le résultat final était plutôt satisfaisant, et on s’est rapproché d’une situation réelle avec une bonne précision. Je pense que l’utilisation important du hasard nous a beaucoup aidée pour réaliser une situation réelle."
   ]
  },
  {
   "cell_type": "markdown",
   "metadata": {},
   "source": [
    "### 5. Expérimentations"
   ]
  },
  {
   "cell_type": "markdown",
   "metadata": {},
   "source": []
  },
  {
   "cell_type": "markdown",
   "metadata": {},
   "source": [
    "### 6. Conclusion"
   ]
  },
  {
   "cell_type": "markdown",
   "metadata": {},
   "source": []
  },
  {
   "cell_type": "markdown",
   "metadata": {},
   "source": [
    "### 7. Bibliographie et sitographie"
   ]
  },
  {
   "cell_type": "markdown",
   "metadata": {},
   "source": []
  }
 ],
 "metadata": {
  "kernelspec": {
   "display_name": "Python 3",
   "language": "python",
   "name": "python3"
  },
  "language_info": {
   "codemirror_mode": {
    "name": "ipython",
    "version": 3
   },
   "file_extension": ".py",
   "mimetype": "text/x-python",
   "name": "python",
   "nbconvert_exporter": "python",
   "pygments_lexer": "ipython3",
   "version": "3.7.1"
  }
 },
 "nbformat": 4,
 "nbformat_minor": 2
}
