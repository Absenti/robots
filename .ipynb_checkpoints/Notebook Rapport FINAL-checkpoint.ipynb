{
 "cells": [
  {
   "cell_type": "markdown",
   "metadata": {},
   "source": [
    " "
   ]
  },
  {
   "cell_type": "markdown",
   "metadata": {},
   "source": [
    " "
   ]
  },
  {
   "cell_type": "markdown",
   "metadata": {},
   "source": [
    "# Dynamique humaine"
   ]
  },
  {
   "cell_type": "markdown",
   "metadata": {},
   "source": [
    "### La répartition des emplois en fonction du phénomène de robotisation"
   ]
  },
  {
   "cell_type": "markdown",
   "metadata": {},
   "source": [
    "## <font color='blue'>Sommaire :</font>\n",
    "\n",
    "   **1**. Résumé\n",
    "   \n",
    "   **2**. Problèmes et hypothèses\n",
    "   \n",
    "   **3**. Détail et solution retenues\n",
    "   \n",
    "   **4**. Contributions, explications\n",
    "   \n",
    "   **5**. Expérimentations\n",
    "   \n",
    "   **6**. Conclusion\n",
    "   \n",
    "   **7**. Bibliographie et sitographie"
   ]
  },
  {
   "cell_type": "markdown",
   "metadata": {},
   "source": [
    "### 1. Résume"
   ]
  },
  {
   "cell_type": "markdown",
   "metadata": {},
   "source": [
    "#### 1.1. Résumé en francais :\n",
    "\n",
    "Notre travail est centré sur les effets de la robotisation et de l'autimatisation des métiers sur le marche du travail. En effet, nous vivons à une époque charnière durant laquelle l'homme se détache de plus en plus des taches répétitives et pénibles, laissant sa place à des automates à la fois plus efficaces et rentables que leurs prédécesseurs. Nous voulons alors simuler de la manière la plus crédible l'évolution de la répartition des emplois de plusieurs secteurs à la fois sur le court, moyen et long terme. Il s'agit d'une simulation assez difficile à réaliser puisque d'après certains professionnels en statistiques, les effets à venir de la robotisation sont très difficiles à évaluer mais auront sans aucun doute un impact important sur les générations à venir.\n",
    "\n",
    "#### 1.2. Résumé en anglais :\n",
    "\n",
    "Our work is centered around the impact of automatization and robotization on the modern-era jobs. We live in a time where mankind has decided to leave the dirty and repetitive tasks to robots, who are in many ways superiors to their predecessors due to a better productivity and are cheaper than the aging workforce. Our goal is to predict in the most realistic way the evolution of the job repartition between men and machines in either a short, medium or long period of time. By focusing our researches on the different elements ruling this evolution like for instance, by how many times is a robot more efficient than your average human, we realized that we are facing a rather difficult subject because even professionals in the statistic domain can't figure out the odds of specific scenarios to occur, we know for a fact than robotization will have a major influence on the upcoming generations."
   ]
  },
  {
   "cell_type": "markdown",
   "metadata": {},
   "source": [
    "### 2.Problèmes et hypothèses"
   ]
  },
  {
   "cell_type": "markdown",
   "metadata": {},
   "source": [
    "#### 2.1. Les problèmes que nous avons rencontré :\n",
    "\n",
    "Le premier problème principal auquel nous avons du faire face fut le suivant : de quelle manière pouvons-nous représenter les variations en terme de perte et d'obtention d'emplois en parallèle à l'introduction sur le marche du travail de robots, d'automates, plus performants ? La population humaine augmentant constamment signifie que de nouvelles personnes arrivent sur le marché du travail de manière mais de l'autre coté, le développement de nouvelles technologies donne jour à de nouveaux automates plus performants jour après jour (perfection de l'IA, des compétences automatiques, ...).\n",
    "\n",
    "Par la suite, le second problème principal fut la selection et l'initialisation de certaines variables considérés comme paramètres clés lors de nos simulations. Il est impossible de donner une probabilité fiable au fait qu'un homme (ou qu'un groupe d'homme) se fasse remplacer par un robot. Après avoir réalisé quelques sondages et effectué de nombreuses recherches, nous avons obtenus des valeurs ne convenant par forcément à nos attentes, ce qui a fortement ralenti dans notre progression générale.\n",
    "\n",
    "#### 2.2. Les hypothèses émises suite à la reflexion générale :\n",
    "\n",
    "Des hypothèses font alors leurs apparitions puisque en cherchant à y répondre, nous nous rapprocherons de plus en plus de notre objectif de la simulation quasi-réaliste. \n",
    "\n",
    "Nous nous demandons alors si nous pouvons déterminer un nombre fixe, en fonction du domaine étudié, de personnes pouvant etre remplacées par un robot. Ce nombre nous permettra de générer des simulations rapides et non-complexes et d'évaluer une première de quelle manière la répartition des emplois est faite. En effet, pouvoir éliminer des groupes d'individus fixes permet de ne pas trop se prendre la tete et de pouvoir travailler sur des répertoires faciles, comme des listes ou grilles, permettant un affichage de l'information de manière statistique ou concrète (de manière visible) respectivement.\n",
    "\n",
    "Egalement, nous nous demandons si la rentabilité ou l'efficacité sont les seuls réels paramètres que nous devons prendre en compte, puisque sur le long terme, qu'il s'agisse d'un homme ou d'un robot, des couts supplémentaires sont nécéssaires. Dans le cas de l'homme, les maladies, congés payés et primes par exemple, représentent des frais conséquents pour les chefs d'entreprises. Dans le cas des robots, les maintenances régulières afin d'assurer un bon fonctionnement ou l'achats de pièces détachés lors de pannes importantes, voir carrément dans certains cas le remplacement complet d'un robot.\n",
    "\n",
    "Une dernière hypothèse émerge suite a notre réflexion générale. Le rapport homme à homme peut-il représenter une nécessité dans certains domaines, dont un des plus important est l'éducation à tout niveaux ? Il serait difficile pour une machine de reproduire des emotions ou réactions humaines et de ce fait, certains métiers ne seraient accessible qu'aux hommes, assurant ainsi une inexistance quasi-certaine d'automates."
   ]
  },
  {
   "cell_type": "markdown",
   "metadata": {},
   "source": [
    "### 3. Détail et solutions retenues"
   ]
  },
  {
   "cell_type": "markdown",
   "metadata": {},
   "source": [
    "#### 3.1. Détails à propos de notre travail :"
   ]
  },
  {
   "cell_type": "markdown",
   "metadata": {},
   "source": [
    "Nous avons décidé de mettre au clair une chose que nous jugeons fondamentale avant de pouvoir commencer toute simulation sur n'importe quel domaine. On considère un emploi occupé par un robot si et seulement si il n'existe aucune influence humaine directe dans ses actions. Nous nous expliquons; dans le cas classique d'une action automatisée, une série de taches est affectée par un homme au robot afin qu'il puisse effectuer son travail mais il ne s'agit la pas d'une influence directe mais indirecte. Une influence directe signifierait qu'une action humaine est nécéssaire lors des taches du robot afin qu'il puisse mener à bien sa mission.\n",
    "Alors, on considère tout emploi occupé par un homme tout ceux ne remplissont pas la condition précédente. Si un homme doit se servir d'une machine afin d'effectuer son travail, on considère tout de meme ce travail occupé par un homme puisque son action est directe.\n",
    "\n",
    "Ainsi, nous pouvons sélectionner les secteurs de travail nous paraissant les plus intéressants à étudier et éliminer ceux allant nous poser d'importants problèmes lors de l'écriture d'un code approprié, ceux ne possedant pas assez de données afin de réaliser ou des simulations ou ceux qui n'apporteront pas des simulations d'une importance suffisante afin d'etre étudiée.\n",
    "\n",
    "Nous avons alors décidé d'étudier les secteurs suivants : l'industrie et la répartition hommes-robots au sein d'usines, les métiers du transports étant très affectés par la robotisation et la finance, puisqu'elle permet de réguler et d'expliquer l'entrée en action de robots ou d'hommes en fonction de la situation.\n"
   ]
  },
  {
   "cell_type": "markdown",
   "metadata": {},
   "source": [
    "#### 3.2. Solutions retenues afin de réaliser nos simulations :"
   ]
  },
  {
   "cell_type": "markdown",
   "metadata": {},
   "source": [
    " "
   ]
  },
  {
   "cell_type": "markdown",
   "metadata": {},
   "source": [
    "### 4. Contributions et explications"
   ]
  },
  {
   "cell_type": "markdown",
   "metadata": {},
   "source": [
    "Nous avons réaliser une répartition des taches au sein du groupe de telle sorte à ce que chaque personne puisse étudier un secteur différent ou des méthodes de simulations différentes. De ce fait, la partie **\"Contributions et explications\"** sera séparée en 4 grandes parties, chacune attribuée à chaque membre de notre groupe.\n",
    "\n",
    "\n",
    "**Xavier Moissinac, responsable de la simulation concernant les métiers du transport :**\n",
    "\n",
    "Ma partie se base sur les deux hypothèses suivantes:\n",
    "\n",
    "*Hypothèse 1: Chaque année, on remplace, ou non, un robot par un humain ou inversement.*\n",
    "\n",
    "*Hypothèse 2: à prix ou salaire égale, on prend un robot à la place d'un humain parce qu'il a un rendement plus élevé.*\n",
    "\n",
    "   Dans un premier temps, j'ai réalisé une fonction de base prenant en compte 4 paramètres: le nombre d'années **\"n\"**, le nombre de place, le salaire d'un humain et le prix d'un robot. Pour plus de réalisme, j'ai également pris en compte le coût total du robot qui correspond au prix du robot auquel on ajoute le coût de réparation au bout d'un nombre d'année appelée espérance. On va ensuite le comparer au coût total d'un humain qui correspond, quant à lui, au salaire de l'humain multiplié par un facteur égal à l'espérance.\n",
    "   On l'intègre ensuite à la fonction de base que l'on renomme \"new_evolution\".\n",
    " \n",
    "   Cependant, le prix du robot ne varie pas. On va donc le faire varier avec la fonction evolution_prix qui prend en paramètre le prix du robot et le nombre d'année. \n",
    "    Je l'intègre alors dans la fonction précédente que je renomme remplacement.\n",
    "    \n",
    "   Nous améliorons encore la fonction en supposant que si l'humain coûte moins cher, on remplace le robot par l'humain. \n",
    "   Maintenant nous allons de nouveau améliorer cette fonction en supposant que le salaire de l'humain chute brutalement au bout d'une année **\"n2\"** et à partir de cette année **\"n2\"** le salaire de l'humain augmente de manière aléatoire jusqu'à une date **\"n3\"** et à partir de cette date le salaire varie de maniere aléatoire.\n",
    "   \n",
    "**Mohamed Badriouiche, responsable des recherches et prévisions :**\n",
    "\n",
    "Mon but est de pouvoir prévoir l'évolution des robots selon les données des années précédentes.\n",
    "En effet, j'ai un nombre (d'humains ou de robots) associé à chaque année sur un graphique, à partir de cela, je définis une droite passant au plus près de chaque point.\n",
    "\n",
    "Pour cela, j'effectue une régression grâce à des fonctions de **\"SCIPY\"** et **\"NUMPY\"**.\n",
    "\n",
    "Dans un premier cas, si l'évolution des années précédentes semble linéaire, j'utilise la fonction **\"linregress\"** de **\"Scipy.stats\"** qui me permet d'obtenir la valeur de a et b, tel que y = a * x + b, avec y le nombre d'humain ou robot, associé à x l'année. \n",
    "\n",
    "Dans le second cas, lorsque l'évolution des années précédentes semble exponentielle, ce qui est souvent le cas concernant les robots, je peux soit utiliser la fonction linregress , soit profiter de la fonction polyfit de numpy, le tout en passant en log le nombre d'humain ou robot de chaque année. J'obtiens ainsi a et b tel que ma courbe soit de la forme y = exp(a * x + b).\n",
    "\n",
    "Néanmoins, il se peut que les robots aient du mal à prendre place due à la méconnaissance de leur fonctionnement, pour cela je crée une fonction **\"decroit_lineaire_to_expo\"** qui fait dépendre l'évolution des humains selon celle des robots, à partir de leur point d'intersection.\n",
    "\n",
    "**Zlatan Gojak, responsable des études sur le capital des entreprises fabricantes de robots :**\n",
    "\n",
    "**Almehdi Krisni, responsable des notebooks et des simulations :**"
   ]
  },
  {
   "cell_type": "markdown",
   "metadata": {},
   "source": [
    "### 5. Expérimentations"
   ]
  },
  {
   "cell_type": "markdown",
   "metadata": {},
   "source": []
  },
  {
   "cell_type": "markdown",
   "metadata": {},
   "source": [
    "### 6. Conclusion"
   ]
  },
  {
   "cell_type": "markdown",
   "metadata": {},
   "source": []
  },
  {
   "cell_type": "markdown",
   "metadata": {},
   "source": [
    "### 7. Bibliographie et sitographie"
   ]
  },
  {
   "cell_type": "markdown",
   "metadata": {},
   "source": []
  }
 ],
 "metadata": {
  "kernelspec": {
   "display_name": "Python 3",
   "language": "python",
   "name": "python3"
  },
  "language_info": {
   "codemirror_mode": {
    "name": "ipython",
    "version": 3
   },
   "file_extension": ".py",
   "mimetype": "text/x-python",
   "name": "python",
   "nbconvert_exporter": "python",
   "pygments_lexer": "ipython3",
   "version": "3.7.1"
  }
 },
 "nbformat": 4,
 "nbformat_minor": 2
}
