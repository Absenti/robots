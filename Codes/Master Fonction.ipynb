{
 "cells": [
  {
   "cell_type": "markdown",
   "metadata": {},
   "source": [
    "En réunissant les fonctions et modélisations de tout les autres notebook, on crée une fonction allant nous permettre de nous approcher le plus possible de notre objectif étant la modélisation la plus générale et réaliste possible.\n",
    "\n",
    "On récupère dans un premier temps les fonctions liées à la partie économique puisqu'il serait incensé de vouloir créer un modèle réaliste sans avoir de rapport avec les capitaux et prix de robots."
   ]
  },
  {
   "cell_type": "code",
   "execution_count": 5,
   "metadata": {},
   "outputs": [],
   "source": [
    "import math\n",
    "import random\n",
    "\n",
    "def evolution_prix (robots_prix,nb_annees, min, max):\n",
    "    liste_robots_prix = list()\n",
    "    liste_robots_prix.append(robots_prix)\n",
    "    \n",
    "    i = 0\n",
    "    while (i < nb_annees): \n",
    "        if (i<nb_annees//2):\n",
    "            min = min + 0.001\n",
    "            max = max + 0.001\n",
    "            coef_random = random.uniform(min,max)\n",
    "            liste_robots_prix.append(liste_robots_prix[i] - (liste_robots_prix[i])*coef_random//100)\n",
    "            i = i + 1\n",
    "        elif ( i >= nb_annees//2):\n",
    "            min = min \n",
    "            max = max - 0.004\n",
    "            coef_random = random.uniform(min,max)\n",
    "            liste_robots_prix.append(liste_robots_prix[i] - (liste_robots_prix[i])*coef_random//100)\n",
    "            i = i + 1\n",
    "        \n",
    "    return liste_robots_prix"
   ]
  },
  {
   "cell_type": "code",
   "execution_count": 6,
   "metadata": {},
   "outputs": [
    {
     "name": "stdout",
     "output_type": "stream",
     "text": [
      "[120000, 119889.0, 118897.0, 118196.0, 117704.0, 117536.0, 117513.0, 116632.0, 116216.0, 115475.0, 113917.0, 113608.0, 113060.0, 112993.0, 112819.0, 111363.0, 110992.0, 110641.0, 109619.0, 107988.0, 106370.0, 104919.0, 103390.0, 103252.0, 103122.0, 102386.0, 101556.0, 100522.0, 100079.0, 99622.0, 98910.0, 98071.0, 96706.0, 96380.0, 96314.0, 95556.0, 95086.0, 94992.0, 94188.0, 93819.0, 93505.0, 93071.0, 92777.0, 91695.0, 90966.0, 89707.0, 88626.0, 88118.0, 87125.0, 85897.0, 84723.0]\n"
     ]
    }
   ],
   "source": [
    "liste = evolution_prix(120000,50, 0, 1.5)\n",
    "print(liste)"
   ]
  },
  {
   "cell_type": "code",
   "execution_count": 7,
   "metadata": {},
   "outputs": [
    {
     "data": {
      "text/plain": [
       "<Figure size 640x480 with 1 Axes>"
      ]
     },
     "metadata": {},
     "output_type": "display_data"
    }
   ],
   "source": [
    "import matplotlib.pyplot as plt\n",
    "\n",
    "liste = evolution_prix(120000,10,0,3.5)\n",
    "\n",
    "plt.plot(liste)\n",
    "plt.xlabel(\"Generation\")\n",
    "plt.ylabel(\"Prix d'un robot\")\n",
    "plt.show()"
   ]
  },
  {
   "cell_type": "code",
   "execution_count": 8,
   "metadata": {},
   "outputs": [],
   "source": [
    "import random\n",
    "def econmie_entreprise (budget_initial,prix_robots, nb_annees, demande, concurrents):\n",
    "    \n",
    "    min = 0\n",
    "    max = 1\n",
    "    var_demande = demande\n",
    "    var_concurrents = concurrents\n",
    "    i = 0\n",
    "    liste_budget = list()\n",
    "    liste_budget.append(budget_initial)\n",
    "    budget = budget_initial\n",
    "    frais = prix_robots/100*40\n",
    "    \n",
    "    while (i != nb_annees):\n",
    "        proba_vente = random.uniform((min+var_demande-var_concurrents),(max+var_demande-var_concurrents))\n",
    "        if (proba_vente > 0.5):\n",
    "            budget = budget + prix_robots - frais\n",
    "            liste_budget.append(budget)\n",
    "        else:\n",
    "            budget = budget - frais\n",
    "            liste_budget.append(budget)\n",
    "            \n",
    "        i = i + 1\n",
    "        \n",
    "    return liste_budget"
   ]
  },
  {
   "cell_type": "code",
   "execution_count": 9,
   "metadata": {},
   "outputs": [
    {
     "name": "stdout",
     "output_type": "stream",
     "text": [
      "[10000000, 9952000.0, 9904000.0, 9976000.0, 9928000.0, 10000000.0, 9952000.0, 9904000.0, 9976000.0, 9928000.0, 9880000.0, 9832000.0, 9784000.0, 9856000.0, 9928000.0, 9880000.0, 9832000.0, 9784000.0, 9856000.0, 9808000.0, 9760000.0, 9712000.0, 9664000.0, 9616000.0, 9688000.0, 9760000.0, 9832000.0, 9904000.0, 9976000.0, 9928000.0, 10000000.0, 10072000.0, 10024000.0, 10096000.0, 10048000.0, 10000000.0, 10072000.0, 10024000.0, 10096000.0, 10048000.0, 10120000.0, 10072000.0, 10024000.0, 10096000.0, 10168000.0, 10240000.0, 10312000.0, 10264000.0, 10216000.0, 10288000.0, 10240000.0, 10192000.0, 10264000.0, 10336000.0, 10288000.0, 10240000.0, 10192000.0, 10264000.0, 10216000.0, 10168000.0, 10240000.0, 10192000.0, 10264000.0, 10216000.0, 10288000.0, 10360000.0, 10312000.0, 10264000.0, 10216000.0, 10288000.0, 10360000.0, 10312000.0, 10264000.0, 10216000.0, 10168000.0, 10240000.0, 10192000.0, 10144000.0, 10216000.0, 10288000.0, 10360000.0, 10312000.0, 10264000.0, 10336000.0, 10408000.0, 10480000.0, 10432000.0, 10504000.0, 10576000.0, 10528000.0, 10480000.0, 10552000.0, 10624000.0, 10696000.0, 10648000.0, 10600000.0, 10672000.0, 10624000.0, 10576000.0, 10528000.0, 10600000.0]\n"
     ]
    }
   ],
   "source": [
    "liste = econmie_entreprise(10000000,120000,100,0.5,0.5)\n",
    "print(liste)"
   ]
  },
  {
   "cell_type": "code",
   "execution_count": 10,
   "metadata": {},
   "outputs": [
    {
     "data": {
      "image/png": "[encoded data removed]",
      "text/plain": [
       "<Figure size 432x288 with 1 Axes>"
      ]
     },
     "metadata": {
      "needs_background": "light"
     },
     "output_type": "display_data"
    }
   ],
   "source": [
    "import matplotlib.pyplot as plt\n",
    "\n",
    "liste = econmie_entreprise(10000000,120000,100,0.5,0.7)\n",
    "plt.plot(liste)\n",
    "plt.xlabel(\"Generation\")\n",
    "plt.ylabel(\"Budget\")\n",
    "plt.show()"
   ]
  },
  {
   "cell_type": "code",
   "execution_count": 11,
   "metadata": {},
   "outputs": [],
   "source": [
    "import random\n",
    "def econmie_entreprise_Final (budget_initial,prix_robots, nb_annees, demande, concurrents):\n",
    "    \n",
    "    min = 0\n",
    "    max = 1\n",
    "    var_demande = demande\n",
    "    var_concurrents = concurrents\n",
    "    var_prix_robots = prix_robots\n",
    "    i = 0\n",
    "    liste_budget = list()\n",
    "    liste_budget.append(budget_initial)\n",
    "    budget = budget_initial\n",
    "    frais = prix_robots/100*30\n",
    "    liste_demande = list()\n",
    "    liste_concurrents = list()\n",
    "    \n",
    "    \n",
    "    while (i != nb_annees):\n",
    "        proba_vente = random.uniform((min+var_demande-var_concurrents),(max+var_demande-var_concurrents))\n",
    "        if (proba_vente > 0.5):\n",
    "            budget = budget + var_prix_robots - frais\n",
    "            liste_budget.append(budget)\n",
    "        else:\n",
    "            budget = budget - frais\n",
    "            liste_budget.append(budget)\n",
    "            \n",
    "        i = i + 1\n",
    "        \n",
    "        random_var = random.uniform(0,100)\n",
    "        if random_var > 80:\n",
    "            var_demande = var_demande + 0.02\n",
    "        elif random_var < 20:\n",
    "            var_concurrents = var_concurrents + 0.02\n",
    "        elif random_var < 1:\n",
    "            frais = frais - 0.3 * frais\n",
    "            \n",
    "        min1 = 0\n",
    "        max1 = 1.5\n",
    "            \n",
    "        if (i<nb_annees//2):\n",
    "            min1 = min1 + 0.001\n",
    "            max1 = max1 + 0.001\n",
    "            coef_random = random.uniform(min1,max1)\n",
    "            var_prix_robots = var_prix_robots - var_prix_robots*coef_random//100\n",
    "        elif (i >= nb_annees//2):\n",
    "            min1 = min1\n",
    "            max1 = max1 + 0.1\n",
    "            coef_random = random.uniform(min1,max1)\n",
    "            var_prix_robots = var_prix_robots - var_prix_robots*coef_random//100\n",
    "            \n",
    "    return liste_budget"
   ]
  },
  {
   "cell_type": "code",
   "execution_count": 12,
   "metadata": {},
   "outputs": [
    {
     "data": {
      "image/png": "[encoded data removed]",
      "text/plain": [
       "<Figure size 432x288 with 1 Axes>"
      ]
     },
     "metadata": {
      "needs_background": "light"
     },
     "output_type": "display_data"
    }
   ],
   "source": [
    "import matplotlib.pyplot as plt\n",
    "\n",
    "liste = econmie_entreprise_Final(10000000,120000,100,0.5,0.5)\n",
    "plt.plot(liste)\n",
    "plt.xlabel(\"Generation\")\n",
    "plt.ylabel(\"Budget\")\n",
    "plt.show()"
   ]
  },
  {
   "cell_type": "code",
   "execution_count": 13,
   "metadata": {},
   "outputs": [],
   "source": [
    "#Les 3 fonctions qui suivent comporte presque le meme code de la fonction econmie_entreprise_Final,\n",
    "#mais elle a ete modifiee pour \"ploter\" des parametres interessants."
   ]
  },
  {
   "cell_type": "code",
   "execution_count": 14,
   "metadata": {},
   "outputs": [],
   "source": [
    "import random\n",
    "def VoirDemande (budget_initial,prix_robots, nb_annees, demande, concurrents):\n",
    "    \n",
    "    min = 0\n",
    "    max = 1\n",
    "    var_demande = demande\n",
    "    var_concurrents = concurrents\n",
    "    var_prix_robots = prix_robots\n",
    "    i = 0\n",
    "    liste_budget = list()\n",
    "    liste_budget.append(budget_initial)\n",
    "    budget = budget_initial\n",
    "    frais = prix_robots/100*30\n",
    "    liste_demande = list()\n",
    "    liste_concurrents = list()\n",
    "    \n",
    "    \n",
    "    while (i != nb_annees):\n",
    "        proba_vente = random.uniform((min+var_demande-var_concurrents),(max+var_demande-var_concurrents))\n",
    "        if (proba_vente > 0.5):\n",
    "            budget = budget + var_prix_robots - frais\n",
    "            liste_budget.append(budget)\n",
    "        else:\n",
    "            budget = budget - frais\n",
    "            liste_budget.append(budget)\n",
    "            \n",
    "        i = i + 1\n",
    "        \n",
    "        random_var = random.uniform(0,100)\n",
    "        if random_var > 80:\n",
    "            var_demande = var_demande + 0.02\n",
    "        elif random_var < 20:\n",
    "            var_concurrents = var_concurrents + 0.02\n",
    "        elif random_var < 1:\n",
    "            frais = frais - 0.3 * frais\n",
    "            \n",
    "        min1 = 0\n",
    "        max1 = 1.5\n",
    "            \n",
    "        if (i<nb_annees//2):\n",
    "            min1 = min1 + 0.001\n",
    "            max1 = max1 + 0.001\n",
    "            coef_random = random.uniform(min1,max1)\n",
    "            var_prix_robots = var_prix_robots - var_prix_robots*coef_random//100\n",
    "        elif (i >= nb_annees//2):\n",
    "            min1 = min1\n",
    "            max1 = max1 + 0.1\n",
    "            coef_random = random.uniform(min1,max1)\n",
    "            var_prix_robots = var_prix_robots - var_prix_robots*coef_random//100\n",
    "        liste_demande.append(var_demande)\n",
    "            \n",
    "    return liste_demande"
   ]
  },
  {
   "cell_type": "code",
   "execution_count": 15,
   "metadata": {},
   "outputs": [
    {
     "data": {
      "image/png": "[encoded data removed]",
      "text/plain": [
       "<Figure size 432x288 with 1 Axes>"
      ]
     },
     "metadata": {
      "needs_background": "light"
     },
     "output_type": "display_data"
    }
   ],
   "source": [
    "import matplotlib.pyplot as plt\n",
    "\n",
    "liste = VoirDemande(10000000,120000,100,0.5,0.5)\n",
    "plt.plot(liste)\n",
    "plt.xlabel(\"Génération\")\n",
    "plt.ylabel(\"Demande\")\n",
    "plt.show()"
   ]
  },
  {
   "cell_type": "code",
   "execution_count": 16,
   "metadata": {},
   "outputs": [],
   "source": [
    "import random\n",
    "def VoirConcurrents (budget_initial,prix_robots, nb_annees, demande, concurrents):\n",
    "    \n",
    "    min = 0\n",
    "    max = 1\n",
    "    var_demande = demande\n",
    "    var_concurrents = concurrents\n",
    "    var_prix_robots = prix_robots\n",
    "    i = 0\n",
    "    liste_budget = list()\n",
    "    liste_budget.append(budget_initial)\n",
    "    budget = budget_initial\n",
    "    frais = prix_robots/100*30\n",
    "    liste_demande = list()\n",
    "    liste_concurrents = list()\n",
    "    \n",
    "    \n",
    "    while (i != nb_annees):\n",
    "        proba_vente = random.uniform((min+var_demande-var_concurrents),(max+var_demande-var_concurrents))\n",
    "        if (proba_vente > 0.5):\n",
    "            budget = budget + var_prix_robots - frais\n",
    "            liste_budget.append(budget)\n",
    "        else:\n",
    "            budget = budget - frais\n",
    "            liste_budget.append(budget)\n",
    "            \n",
    "        i = i + 1\n",
    "        \n",
    "        random_var = random.uniform(0,100)\n",
    "        if random_var > 80:\n",
    "            var_demande = var_demande + 0.02\n",
    "        elif random_var < 20:\n",
    "            var_concurrents = var_concurrents + 0.02\n",
    "        elif random_var < 1:\n",
    "            frais = frais - 0.3 * frais\n",
    "            \n",
    "        min1 = 0\n",
    "        max1 = 1.5\n",
    "            \n",
    "        if (i<nb_annees//2):\n",
    "            min1 = min1 + 0.001\n",
    "            max1 = max1 + 0.001\n",
    "            coef_random = random.uniform(min1,max1)\n",
    "            var_prix_robots = var_prix_robots - var_prix_robots*coef_random//100\n",
    "        elif (i >= nb_annees//2):\n",
    "            min1 = min1\n",
    "            max1 = max1 + 0.1\n",
    "            coef_random = random.uniform(min1,max1)\n",
    "            var_prix_robots = var_prix_robots - var_prix_robots*coef_random//100\n",
    "        liste_concurrents.append(var_concurrents)\n",
    "    return liste_concurrents"
   ]
  },
  {
   "cell_type": "code",
   "execution_count": 17,
   "metadata": {},
   "outputs": [
    {
     "data": {
      "image/png": "[encoded data removed]",
      "text/plain": [
       "<Figure size 432x288 with 1 Axes>"
      ]
     },
     "metadata": {
      "needs_background": "light"
     },
     "output_type": "display_data"
    }
   ],
   "source": [
    "import matplotlib.pyplot as plt\n",
    "\n",
    "liste = VoirConcurrents(10000000,120000,100,0.5,0.5)\n",
    "plt.plot(liste)\n",
    "plt.xlabel(\"Generation\")\n",
    "plt.ylabel(\"Concurrents\")\n",
    "plt.show()"
   ]
  },
  {
   "cell_type": "code",
   "execution_count": 18,
   "metadata": {},
   "outputs": [],
   "source": [
    "import random\n",
    "def VoirProba (budget_initial,prix_robots, nb_annees, demande, concurrents):\n",
    "    \n",
    "    min = 0\n",
    "    max = 1\n",
    "    var_demande = demande\n",
    "    var_concurrents = concurrents\n",
    "    var_prix_robots = prix_robots\n",
    "    i = 0\n",
    "    liste_budget = list()\n",
    "    liste_budget.append(budget_initial)\n",
    "    budget = budget_initial\n",
    "    frais = prix_robots/100*30\n",
    "    liste_demande = list()\n",
    "    liste_concurrents = list()\n",
    "    liste_proba_vente = list()\n",
    "    \n",
    "    \n",
    "    while (i != nb_annees):\n",
    "        proba_vente = random.uniform((min+var_demande-var_concurrents),(max+var_demande-var_concurrents))\n",
    "        if (proba_vente > 0.5):\n",
    "            budget = budget + var_prix_robots - frais\n",
    "            liste_budget.append(budget)\n",
    "        else:\n",
    "            budget = budget - frais\n",
    "            liste_budget.append(budget)\n",
    "            \n",
    "        i = i + 1\n",
    "        \n",
    "        random_var = random.uniform(0,100)\n",
    "        if random_var > 80:\n",
    "            var_demande = var_demande + 0.02\n",
    "        elif random_var < 20:\n",
    "            var_concurrents = var_concurrents + 0.02\n",
    "        elif random_var < 1:\n",
    "            frais = frais - 0.3 * frais\n",
    "            \n",
    "        min1 = 0\n",
    "        max1 = 1.5\n",
    "            \n",
    "        if (i<nb_annees//2):\n",
    "            min1 = min1 + 0.001\n",
    "            max1 = max1 + 0.001\n",
    "            coef_random = random.uniform(min1,max1)\n",
    "            var_prix_robots = var_prix_robots - var_prix_robots*coef_random//100\n",
    "        elif (i >= nb_annees//2):\n",
    "            min1 = min1\n",
    "            max1 = max1 + 0.1\n",
    "            coef_random = random.uniform(min1,max1)\n",
    "            var_prix_robots = var_prix_robots - var_prix_robots*coef_random//100\n",
    "        liste_proba_vente.append(proba_vente)\n",
    "            \n",
    "    return liste_proba_vente "
   ]
  },
  {
   "cell_type": "code",
   "execution_count": 19,
   "metadata": {},
   "outputs": [
    {
     "data": {
      "image/png": "[encoded data removed]",
      "text/plain": [
       "<Figure size 432x288 with 1 Axes>"
      ]
     },
     "metadata": {
      "needs_background": "light"
     },
     "output_type": "display_data"
    }
   ],
   "source": [
    "import matplotlib.pyplot as plt\n",
    "\n",
    "liste = VoirProba(10000000,120000,100,0.5,0.5)\n",
    "plt.plot(liste)\n",
    "plt.xlabel(\"Generation\")\n",
    "plt.ylabel(\"Probabilité de vendre le robot\")\n",
    "plt.show()"
   ]
  },
  {
   "cell_type": "code",
   "execution_count": 20,
   "metadata": {},
   "outputs": [],
   "source": [
    "import random\n",
    "def econmie_entreprise_Final_Marketing (budget_initial,prix_robots, nb_annees, demande, concurrents):\n",
    "    \n",
    "    min = 0\n",
    "    max = 1\n",
    "    var_demande = demande\n",
    "    var_concurrents = concurrents\n",
    "    var_prix_robots = prix_robots\n",
    "    i = 0\n",
    "    liste_budget = list()\n",
    "    liste_budget.append(budget_initial)\n",
    "    budget = budget_initial\n",
    "    frais_marketing = var_prix_robots//10\n",
    "    frais = prix_robots/100*30 + frais_marketing\n",
    "    liste_demande = list()\n",
    "    liste_concurrents = list()\n",
    "    \n",
    "    \n",
    "    while (i != nb_annees):\n",
    "        proba_vente = random.uniform((min+var_demande-var_concurrents),(max+var_demande-var_concurrents))\n",
    "        if (proba_vente > 0.5):\n",
    "            budget = budget + var_prix_robots - frais\n",
    "            liste_budget.append(budget)\n",
    "        else:\n",
    "            budget = budget - frais\n",
    "            liste_budget.append(budget)\n",
    "            \n",
    "        i = i + 1\n",
    "        \n",
    "        random_var = random.uniform(0,100)\n",
    "        if random_var > 80:\n",
    "            var_demande = var_demande + 0.02\n",
    "        elif random_var < 20:\n",
    "            var_concurrents = var_concurrents + 0.02\n",
    "        elif random_var < 1:\n",
    "            frais = frais - 0.3 * frais\n",
    "            \n",
    "        min1 = 0\n",
    "        max1 = 1.5\n",
    "            \n",
    "        if (i<nb_annees//2):\n",
    "            min1 = min1 + 0.001\n",
    "            max1 = max1 + 0.001\n",
    "            coef_random = random.uniform(min1,max1)\n",
    "            var_prix_robots = var_prix_robots - var_prix_robots*coef_random//100\n",
    "        elif (i >= nb_annees//2):\n",
    "            min1 = min1\n",
    "            max1 = max1 + 0.1\n",
    "            coef_random = random.uniform(min1,max1)\n",
    "            var_prix_robots = var_prix_robots - var_prix_robots*coef_random//100\n",
    "            \n",
    "        if (proba_vente < 0.5):\n",
    "            frais_marketing = frais_marketing + var_prix_robots//100\n",
    "            var_demande = var_demande + 0.01\n",
    "            \n",
    "    return liste_budget"
   ]
  },
  {
   "cell_type": "code",
   "execution_count": 21,
   "metadata": {},
   "outputs": [
    {
     "data": {
      "image/png": "[encoded data removed]",
      "text/plain": [
       "<Figure size 432x288 with 1 Axes>"
      ]
     },
     "metadata": {
      "needs_background": "light"
     },
     "output_type": "display_data"
    }
   ],
   "source": [
    "import matplotlib.pyplot as plt\n",
    "\n",
    "liste = econmie_entreprise_Final_Marketing(10000000,120000,100,0.5,0.4)\n",
    "plt.plot(liste)\n",
    "plt.xlabel(\"Generation\")\n",
    "plt.ylabel(\"Capital\")\n",
    "plt.show()"
   ]
  },
  {
   "cell_type": "code",
   "execution_count": 22,
   "metadata": {},
   "outputs": [],
   "source": [
    "import random\n",
    "def VoirMarketing(budget_initial,prix_robots, nb_annees, demande, concurrents):\n",
    "    \n",
    "    min = 0\n",
    "    max = 1\n",
    "    var_demande = demande\n",
    "    var_concurrents = concurrents\n",
    "    var_prix_robots = prix_robots\n",
    "    i = 0\n",
    "    liste_budget = list()\n",
    "    liste_budget.append(budget_initial)\n",
    "    budget = budget_initial\n",
    "    frais_marketing = var_prix_robots//10\n",
    "    frais = prix_robots/100*30 + frais_marketing\n",
    "    liste_demande = list()\n",
    "    liste_concurrents = list()\n",
    "    liste_frais_marketing = list()\n",
    "    \n",
    "    \n",
    "    while (i != nb_annees):\n",
    "        proba_vente = random.uniform((min+var_demande-var_concurrents),(max+var_demande-var_concurrents))\n",
    "        if (proba_vente > 0.5):\n",
    "            budget = budget + var_prix_robots - frais\n",
    "            liste_budget.append(budget)\n",
    "        else:\n",
    "            budget = budget - frais\n",
    "            liste_budget.append(budget)\n",
    "            \n",
    "        i = i + 1\n",
    "        \n",
    "        random_var = random.uniform(0,100)\n",
    "        if random_var > 80:\n",
    "            var_demande = var_demande + 0.02\n",
    "        elif random_var < 20:\n",
    "            var_concurrents = var_concurrents + 0.02\n",
    "        elif random_var < 1:\n",
    "            frais = frais - 0.3 * frais\n",
    "            \n",
    "        min1 = 0\n",
    "        max1 = 1.5\n",
    "            \n",
    "        if (i<nb_annees//2):\n",
    "            min1 = min1 + 0.001\n",
    "            max1 = max1 + 0.001\n",
    "            coef_random = random.uniform(min1,max1)\n",
    "            var_prix_robots = var_prix_robots - var_prix_robots*coef_random//100\n",
    "        elif (i >= nb_annees//2):\n",
    "            min1 = min1\n",
    "            max1 = max1 + 0.1\n",
    "            coef_random = random.uniform(min1,max1)\n",
    "            var_prix_robots = var_prix_robots - var_prix_robots*coef_random//100\n",
    "            \n",
    "        if (proba_vente < 0.5):\n",
    "            frais_marketing = frais_marketing + var_prix_robots//100\n",
    "            var_demande = var_demande + 0.01\n",
    "        liste_frais_marketing.append(frais_marketing)\n",
    "            \n",
    "    return liste_frais_marketing"
   ]
  },
  {
   "cell_type": "code",
   "execution_count": 23,
   "metadata": {},
   "outputs": [
    {
     "data": {
      "image/png": "[encoded data removed]",
      "text/plain": [
       "<Figure size 432x288 with 1 Axes>"
      ]
     },
     "metadata": {
      "needs_background": "light"
     },
     "output_type": "display_data"
    }
   ],
   "source": [
    "import matplotlib.pyplot as plt\n",
    "\n",
    "liste = VoirMarketing(10000000,120000,100,0.5,0.4)\n",
    "plt.plot(liste)\n",
    "plt.xlabel(\"Generation\")\n",
    "plt.ylabel(\"Frais de Marketing\")\n",
    "plt.show()"
   ]
  },
  {
   "cell_type": "markdown",
   "metadata": {},
   "source": [
    "On s'active désormais à la création de la fonction finale allant permettre la représentation du modèle que l'on considerera le plus proche de la réalité."
   ]
  },
  {
   "cell_type": "code",
   "execution_count": 40,
   "metadata": {},
   "outputs": [],
   "source": [
    "import random\n",
    "\n",
    "def master_fonction (capital_b, n_annees, effectif_b_h, effectif_b_r, prix_robot, frais_maint, salaire_h, max_r, renta_h_max, renta_r_max, frais_r) :\n",
    "    \n",
    "    # prices : list[int]\n",
    "    prices = evolution_prix(prix_robot, n_annees, 0, max_r)\n",
    "    \n",
    "    # homme_l : list[int]\n",
    "    homme_l = list()\n",
    "    homme_l.append(effectif_b_h)\n",
    "    \n",
    "    # robot_l : list[int]\n",
    "    robot_l = list()\n",
    "    robot_l.append(effectif_b_r)\n",
    "    \n",
    "    # n : int\n",
    "    n = n_annees\n",
    "    \n",
    "    # eco : int\n",
    "    eco = capital_b\n",
    "\n",
    "    # eco_l : list[int]\n",
    "    eco_l = list()\n",
    "    eco_l.append(eco)\n",
    "    \n",
    "    # effectif_h : int\n",
    "    effectif_h = effectif_b_h\n",
    "    \n",
    "    # effectif_r : int\n",
    "    effectif_r = effectif_b_r\n",
    "    \n",
    "    # i : int\n",
    "    i = 1\n",
    "    \n",
    "    # j : int\n",
    "    j = 0\n",
    "    \n",
    "    # c : int\n",
    "    c = 0\n",
    "    \n",
    "    # b : int\n",
    "    b = 0\n",
    "    \n",
    "    while (i <= n_annees) :\n",
    "        \n",
    "        eco = eco - effectif_h * salaire_h\n",
    "        \n",
    "        eco = eco - effectif_r * frais_maint\n",
    "        \n",
    "        c = effectif_h\n",
    "        \n",
    "        # On calcule le revenu des hommes\n",
    "        \n",
    "        for j in range(0,int(c)) :\n",
    "            \n",
    "            eco = eco + random.randint(0,salaire_h * renta_h_max)\n",
    "            \n",
    "        c = effectif_r\n",
    "            \n",
    "        # On calcule le revenu des robots\n",
    "        \n",
    "        for j in range(0,int(c)) :\n",
    "            \n",
    "            eco = eco + random.randint(0,renta_r_max)\n",
    "            \n",
    "        eco_l.append(eco)\n",
    "        \n",
    "        if eco_l[i] >= eco_l[i-1] :\n",
    "            \n",
    "            b = (eco_l[i] - eco_l[i-1])//(prix_robot * random.uniform(1+frais_r/4,1+frais_r))\n",
    "            \n",
    "            effectif_r = effectif_r + b\n",
    "            \n",
    "            effectif_h = int(effectif * random.uniform(,))\n",
    "            \n",
    "            homme_l.append(effectif_h)\n",
    "            \n",
    "            robot_l.append(effectif_r)\n",
    "            \n",
    "        else :\n",
    "            \n",
    "            b = (eco_l[i-1] - eco_l[i])//salaire_h\n",
    "            \n",
    "            # Si il n'y a déjà plus d'hommes\n",
    "            \n",
    "            if (effectif_h - b < 0) :\n",
    "                \n",
    "                effectif_h = 0\n",
    "                \n",
    "            else :\n",
    "                \n",
    "                effectif_h = effectif_h - b\n",
    "                \n",
    "            b = (prix_robot * random.randit(0.7,1.1))\n",
    "            \n",
    "            b = b // (prix_robot*random.uniform(1+frais_r/4,1+frais_r))\n",
    "            \n",
    "            effectif_r = effectif_r + b\n",
    "            \n",
    "            homme_l.append(effectif_h)\n",
    "            \n",
    "            robot_l.append(effectif_r)\n",
    "            \n",
    "        i = i + 1\n",
    "        \n",
    "    return (eco_l,prix_robot,homme_l,robot_l)"
   ]
  },
  {
   "cell_type": "code",
   "execution_count": 42,
   "metadata": {},
   "outputs": [
    {
     "name": "stdout",
     "output_type": "stream",
     "text": [
      "([1000000, 1011667326, 1945970565.0, 2984414507.0, 4150351115.0, 5278578176.0, 6504675943.0, 7758536068.0, 9066491953.0, 10343366963.0, 11763298007.0, 13185117468.0, 14648236348.0, 16171928848.0, 17799757049.0, 19507927939.0, 21289862622.0, 23142393327.0, 25043287703.0, 26958295725.0, 29053050256.0], 100000, [300, 300, 300, 300, 300, 300, 300, 300, 300, 300, 300, 300, 300, 300, 300, 300, 300, 300, 300, 300, 300], [0, 8487.0, 16210.0, 25755.0, 36308.0, 46082.0, 56646.0, 67573.0, 79072.0, 91054.0, 102726.0, 114496.0, 126820.0, 140729.0, 154926.0, 170662.0, 186846.0, 203023.0, 218981.0, 235399.0, 254447.0])\n"
     ]
    }
   ],
   "source": [
    "t = master_fonction (1000000, 20, 300, 0, 100000, 500, 2200, 3.5, 3000, 10000, 0.25)\n",
    "\n",
    "print(t)"
   ]
  }
 ],
 "metadata": {
  "kernelspec": {
   "display_name": "Python 3",
   "language": "python",
   "name": "python3"
  }
 },
 "nbformat": 4,
 "nbformat_minor": 2
}
