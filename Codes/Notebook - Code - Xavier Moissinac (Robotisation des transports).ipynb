{
 "cells": [
  {
   "cell_type": "markdown",
   "metadata": {
    "collapsed": true
   },
   "source": [
    "Il nous faut faire une fonction tant que avec une evolution des remplacements dans les transports en fonction du prix\n",
    "donc 2 facteurs le prix d un robot et le prix d un humain.\n",
    "\n",
    "On a \"n\" le nombre de robot, \"prixr\" le prix d un robot, \"prix\" le cout d'un humain et \"nbreplace\" le nombre de place qu sein de l'entreprise étudiée."
   ]
  },
  {
   "cell_type": "code",
   "execution_count": 57,
   "metadata": {},
   "outputs": [],
   "source": [
    "import random\n",
    "import math\n",
    "import numpy as np\n",
    "import matplotlib.pyplot as plt\n",
    "%matplotlib inline     \n",
    "from matplotlib import animation"
   ]
  },
  {
   "cell_type": "code",
   "execution_count": 58,
   "metadata": {},
   "outputs": [],
   "source": [
    "def evolution(n ,prixr ,prixh ,nbreplace):\n",
    "    \n",
    "    #robot:list[int]\n",
    "    robot=[0]\n",
    "    \n",
    "    #compteurr:int\n",
    "    compteur_r=0\n",
    "    \n",
    "    #compteurh:int\n",
    "    compteur_h=nbreplace\n",
    "    \n",
    "    #humain:list[int]\n",
    "    humain=[nbreplace]\n",
    "\n",
    "    for i in range(n):\n",
    "        \n",
    "        if (prixr <= prixh):    \n",
    "            compteur_h = compteur_h-1  # dimin compteur humain\n",
    "            humain.append(compteur_h)\n",
    "    \n",
    "            compteur_r = compteur_r + 1 # augment compteur robot\n",
    "            robot.append(compteur_r)\n",
    "\n",
    "        else :\n",
    "\n",
    "            humain.append(compteur_h)\n",
    "            robot.append(compteur_r)\n",
    "            \n",
    "            \n",
    "    return (robot, humain)"
   ]
  },
  {
   "cell_type": "markdown",
   "metadata": {},
   "source": [
    "Pour plus de réalisme, il nous faut maintenant prendre en compte l'espérance de vie du robot et son coût de réparation et donc le possible avantage que ça apporte."
   ]
  },
  {
   "cell_type": "code",
   "execution_count": 59,
   "metadata": {},
   "outputs": [],
   "source": [
    "def advantage(prixr, prixh, esp, rep):\n",
    "    \n",
    "    #ctotalr:int\n",
    "    ctotalr = prixr + rep\n",
    "    \n",
    "    #ctotalh:int\n",
    "    ctotalh = prixh * esp\n",
    "    \n",
    "    return ctotalr/ctotalh\n",
    "    "
   ]
  },
  {
   "cell_type": "markdown",
   "metadata": {},
   "source": [
    "On réécrit la première fonction mais en prenant en compte l'avantage."
   ]
  },
  {
   "cell_type": "code",
   "execution_count": 60,
   "metadata": {},
   "outputs": [],
   "source": [
    "def new_evolution(n ,prixr ,prixh ,nbreplace ,esp ,rep):\n",
    "    #ad:int\n",
    "    \n",
    "    ad = advantage(prixr, prixh, esp, rep)\n",
    "   \n",
    "    # compteur_r : int\n",
    "    compteur_r=0\n",
    "    \n",
    "    # robot : list[int]\n",
    "    robot = list()\n",
    "    robot.append(compteur_r)\n",
    "    \n",
    "    # compteur_h : int\n",
    "    compteur_h=nbreplace\n",
    "    \n",
    "    # humain : list[int]\n",
    "    humain = list()\n",
    "    \n",
    "    \n",
    "    for i in range(n):\n",
    "        \n",
    "        \n",
    "        if (1 >= ad):\n",
    "            \n",
    "            compteur_h = compteur_h-1  # dimin compteur humain\n",
    "            humain.append(compteur_h)\n",
    "        \n",
    "            compteur_r = compteur_r + 1 # augment compteur robot\n",
    "            robot.append(compteur_r)\n",
    "\n",
    "        else:\n",
    "            \n",
    "            humain.append(compteur_h)\n",
    "            robot.append(compteur_r)\n",
    "            \n",
    "    return (robot, humain)"
   ]
  },
  {
   "cell_type": "code",
   "execution_count": 61,
   "metadata": {},
   "outputs": [
    {
     "data": {
      "text/plain": [
       "([0, 1, 2, 3, 4, 5, 6, 7, 8, 9, 10], [9, 8, 7, 6, 5, 4, 3, 2, 1, 0])"
      ]
     },
     "execution_count": 61,
     "metadata": {},
     "output_type": "execute_result"
    }
   ],
   "source": [
    "new_evolution(10, 5, 6, 10, 5, 1)"
   ]
  },
  {
   "cell_type": "markdown",
   "metadata": {},
   "source": [
    "Mais en économie, le prix baisse en fonction de la production donc on note par conséquent, une variation des prix du marché."
   ]
  },
  {
   "cell_type": "code",
   "execution_count": 62,
   "metadata": {},
   "outputs": [],
   "source": [
    "def evolution_prix(prixr,n):\n",
    "    \n",
    "    liste_robots_prix = []\n",
    "    \n",
    "    liste_robots_prix.append(prixr)\n",
    "    \n",
    "    i = 0\n",
    "      \n",
    "    while (i < n):\n",
    "        coef_demande = random.randint(-300,400)//100\n",
    "        liste_robots_prix.append((liste_robots_prix[i] - (liste_robots_prix[i]//100)*coef_demande))\n",
    "        i = i+1\n",
    "        \n",
    "    return liste_robots_prix"
   ]
  },
  {
   "cell_type": "code",
   "execution_count": 63,
   "metadata": {},
   "outputs": [
    {
     "data": {
      "text/plain": [
       "[600, 606, 606, 624, 606, 594, 604, 598, 598, 598, 598]"
      ]
     },
     "execution_count": 63,
     "metadata": {},
     "output_type": "execute_result"
    }
   ],
   "source": [
    "evolution_prix(600, 10)"
   ]
  },
  {
   "cell_type": "code",
   "execution_count": 64,
   "metadata": {},
   "outputs": [],
   "source": [
    "def plot_evolution_prix(prixr,n):\n",
    "    plt.title(\"Robotisation des transports\")\n",
    "    list_1= evolution_prix(600, 10)\n",
    "    plt.plot(list_1)\n",
    "    plt.ylabel(\"Evoltion du nombre de place\")\n",
    "    plt.xlabel(\"Annee\")\n",
    "    plt.show()"
   ]
  },
  {
   "cell_type": "code",
   "execution_count": 65,
   "metadata": {},
   "outputs": [
    {
     "data": {
      "image/png": "[encoded data removed]",
      "text/plain": [
       "<Figure size 432x288 with 1 Axes>"
      ]
     },
     "metadata": {
      "needs_background": "light"
     },
     "output_type": "display_data"
    }
   ],
   "source": [
    "plot_evolution_prix(600, 10)"
   ]
  },
  {
   "cell_type": "markdown",
   "metadata": {},
   "source": [
    "On l'intègre à la fonction pour plus de réalisme."
   ]
  },
  {
   "cell_type": "code",
   "execution_count": 66,
   "metadata": {},
   "outputs": [],
   "source": [
    "def remplacement(n ,prixr ,prixh ,nbreplace ,esp ,rep):\n",
    "   \n",
    "    #robot:list[int]\n",
    "    robot=[0]\n",
    "    #compteurr:int\n",
    "    compteur_r=0\n",
    "    #compteurh:int\n",
    "    compteur_h=nbreplace\n",
    "    #humain:list[int]\n",
    "    humain=[nbreplace]\n",
    "    #evoprix:list[int]\n",
    "    evoprix=evolution_prix(prixr,n)\n",
    "    #i:int\n",
    "    \n",
    "    for i in range(n):\n",
    "        prixr = evoprix[i]\n",
    "        #ad:int\n",
    "        ad = advantage(prixr, prixh, esp, rep)\n",
    "        if (1>ad):\n",
    "            compteur_h = compteur_h-1  # dimin compteur humain\n",
    "            humain.append(compteur_h)\n",
    "            compteur_r = compteur_r + 1 # augment compteur robot\n",
    "            robot.append(compteur_r)\n",
    "        else:\n",
    "            humain.append(compteur_h)\n",
    "            robot.append(compteur_r)\n",
    "    return (robot, humain)"
   ]
  },
  {
   "cell_type": "code",
   "execution_count": 67,
   "metadata": {},
   "outputs": [
    {
     "data": {
      "text/plain": [
       "([0, 0, 0, 0, 0, 0, 0, 0, 0, 0, 0, 0, 0, 0, 0, 0, 0, 0, 0, 0, 0],\n",
       " [15,\n",
       "  15,\n",
       "  15,\n",
       "  15,\n",
       "  15,\n",
       "  15,\n",
       "  15,\n",
       "  15,\n",
       "  15,\n",
       "  15,\n",
       "  15,\n",
       "  15,\n",
       "  15,\n",
       "  15,\n",
       "  15,\n",
       "  15,\n",
       "  15,\n",
       "  15,\n",
       "  15,\n",
       "  15,\n",
       "  15])"
      ]
     },
     "execution_count": 67,
     "metadata": {},
     "output_type": "execute_result"
    }
   ],
   "source": [
    "remplacement(20, 600, 300, 15, 2, 1)"
   ]
  },
  {
   "cell_type": "markdown",
   "metadata": {},
   "source": [
    "Nous améliorons encore la fonction en supposant que si l'humain revient moins cher qu'un robot, on remplace le robot par un homme."
   ]
  },
  {
   "cell_type": "code",
   "execution_count": 68,
   "metadata": {},
   "outputs": [],
   "source": [
    "def new_remplacement(n ,prixr ,prixh ,nbreplace ,esp ,rep):\n",
    "   \n",
    "    #robot:list[int]\n",
    "    robot = [0]\n",
    "    #compteurr:int\n",
    "    compteur_r = 0\n",
    "    #compteurh:int\n",
    "    compteur_h = nbreplace\n",
    "    #humain:list[int]\n",
    "    humain = [nbreplace]\n",
    "    #evoprix:list[int]\n",
    "    evoprix = evolution_prix(prixr,n)\n",
    "    #i:int\n",
    "    i = 0\n",
    "    \n",
    "    while ((i <= n) and (compteur_h >= 0) and (compteur_r >= 0)):\n",
    "        prixr=evoprix[i]\n",
    "        #ad:int\n",
    "        ad=advantage(prixr, prixh, esp, rep)\n",
    "        if (1>ad):\n",
    "            compteur_h = compteur_h-1  # diminue compteur humain\n",
    "            humain.append(compteur_h)\n",
    "            compteur_r = compteur_r + 1 # augmente compteur robot\n",
    "            robot.append(compteur_r)\n",
    "            i=i+1\n",
    "        else:\n",
    "            compteur_h = compteur_h + 1 \n",
    "            humain.append(compteur_h)\n",
    "            compteur_r = compteur_r - 1\n",
    "            robot.append(compteur_r)\n",
    "            i=i+1\n",
    "    return (robot, humain)"
   ]
  },
  {
   "cell_type": "code",
   "execution_count": 69,
   "metadata": {},
   "outputs": [
    {
     "name": "stdout",
     "output_type": "stream",
     "text": [
      "[0, 1, 2, 3, 4, 5, 6, 7, 8, 7, 6, 5, 4, 3, 2, 1, 0, -1]\n",
      "[15, 14, 13, 12, 11, 10, 9, 8, 7, 8, 9, 10, 11, 12, 13, 14, 15, 16]\n"
     ]
    }
   ],
   "source": [
    "new_remplacement(20, 580, 300, 15, 2, 1)\n",
    "c=new_remplacement(20, 580, 300, 15, 2, 1)\n",
    "print(c[0])\n",
    "print(c[1])\n"
   ]
  },
  {
   "cell_type": "code",
   "execution_count": 70,
   "metadata": {},
   "outputs": [],
   "source": [
    "def plot_new_generation(n ,prixr ,prixh ,nbreplace ,esp ,rep):\n",
    "    plt.title(\"Robotisation des transports\")\n",
    "    list_1, list_2 = new_remplacement(n ,prixr ,prixh ,nbreplace ,esp ,rep)\n",
    "    plt.plot(list_2)\n",
    "    plt.plot(list_1)\n",
    "    plt.ylabel(\"Evolution du nombre de place\")\n",
    "    plt.xlabel(\"Annee\")\n",
    "    plt.show()"
   ]
  },
  {
   "cell_type": "code",
   "execution_count": 71,
   "metadata": {},
   "outputs": [
    {
     "data": {
      "image/png": "[encoded data removed]",
      "text/plain": [
       "<Figure size 432x288 with 1 Axes>"
      ]
     },
     "metadata": {
      "needs_background": "light"
     },
     "output_type": "display_data"
    }
   ],
   "source": [
    "plot_new_generation(70, 580, 300, 30, 2, 1)"
   ]
  },
  {
   "cell_type": "code",
   "execution_count": 72,
   "metadata": {},
   "outputs": [],
   "source": [
    "def effet_crise(n ,prixr ,prixh ,nbreplace ,esp ,rep, n2):\n",
    "   \n",
    "    #robot:list[int]\n",
    "    robot = [0]\n",
    "    #compteurr:int\n",
    "    compteur_r = 0\n",
    "    #compteurh:int\n",
    "    compteur_h = nbreplace\n",
    "    #humain:list[int]\n",
    "    humain = [nbreplace]\n",
    "    #evoprix:list[int]\n",
    "    evoprix = evolution_prix(prixr,n)\n",
    "    #i:int\n",
    "    i = 0\n",
    "    \n",
    "    while ((i <= n2) and (compteur_h >= 0) and (compteur_r >= 0)):\n",
    "        prixr=evoprix[i]\n",
    "        #ad:int\n",
    "        ad=advantage(prixr, prixh, esp, rep)\n",
    "        if (1>ad):\n",
    "            compteur_h = compteur_h-1  # diminue compteur humain\n",
    "            humain.append(compteur_h)\n",
    "            compteur_r = compteur_r + 1 # augmente compteur robot\n",
    "            robot.append(compteur_r)\n",
    "            i=i+1\n",
    "        else:\n",
    "            compteur_h = compteur_h + 1 \n",
    "            humain.append(compteur_h)\n",
    "            compteur_r = compteur_r - 1\n",
    "            robot.append(compteur_r)\n",
    "            i=i+1\n",
    "    #x:int\n",
    "    x = n-n2\n",
    "    while ((x <= n) and (compteur_h >= 0) and (compteur_r >= 0)):\n",
    "        prixr=evoprix[x]\n",
    "        coef = random.randint(1,3)\n",
    "        prixh = prixh+((prixh*coef)//100)\n",
    "        ad = advantage(prixr, prixh, esp, rep)\n",
    "        if( x == n-n2):\n",
    "            prixr = evoprix[x]\n",
    "            coef = random.randint(40,60)\n",
    "            prixh = prixh-((prixh*coef)//100)\n",
    "            ad = advantage(prixr, prixh, esp, rep)\n",
    "            if (1>ad):\n",
    "                compteur_h = compteur_h-1  # diminue compteur humain\n",
    "                humain.append(compteur_h)\n",
    "                compteur_r = compteur_r + 1 # augmente compteur robot\n",
    "                robot.append(compteur_r)\n",
    "                x=x+1\n",
    "            else:\n",
    "                compteur_h = compteur_h + 1 \n",
    "                humain.append(compteur_h)\n",
    "                compteur_r = compteur_r - 1\n",
    "                robot.append(compteur_r)\n",
    "                x=x+1\n",
    "        else:\n",
    "            if (1>ad):\n",
    "                compteur_h = compteur_h-1  # diminue compteur humain\n",
    "                humain.append(compteur_h)\n",
    "                compteur_r = compteur_r + 1 # augmente compteur robot\n",
    "                robot.append(compteur_r)\n",
    "                x=x+1\n",
    "            else:\n",
    "                compteur_h = compteur_h + 1 \n",
    "                humain.append(compteur_h)\n",
    "                compteur_r = compteur_r - 1\n",
    "                robot.append(compteur_r)\n",
    "                x=x+1\n",
    "    return (robot, humain)"
   ]
  },
  {
   "cell_type": "code",
   "execution_count": 73,
   "metadata": {},
   "outputs": [],
   "source": [
    "def plot_effet_crise(n ,prixr ,prixh ,nbreplace ,esp ,rep, n2):\n",
    "    plt.title(\"Robotisation des transports\")\n",
    "    list_1, list_2 = effet_crise(n ,prixr ,prixh ,nbreplace ,esp ,rep, n2)\n",
    "    plt.plot(list_2, label=\"humains\")\n",
    "    plt.plot(list_1, label=\"robots\")\n",
    "    plt.ylabel(\"Evolution du nombre de place\")\n",
    "    plt.xlabel(\"Annees\")\n",
    "    plt.legend()\n",
    "    plt.show()"
   ]
  },
  {
   "cell_type": "code",
   "execution_count": 74,
   "metadata": {},
   "outputs": [
    {
     "data": {
      "image/png": "[encoded data removed]",
      "text/plain": [
       "<Figure size 432x288 with 1 Axes>"
      ]
     },
     "metadata": {
      "needs_background": "light"
     },
     "output_type": "display_data"
    }
   ],
   "source": [
    "plot_effet_crise(70, 580, 300, 15, 2, 1, 50)"
   ]
  },
  {
   "cell_type": "code",
   "execution_count": 75,
   "metadata": {},
   "outputs": [],
   "source": [
    "def fonction_compteur_r(compteur_r, nbreplace):\n",
    "  \n",
    "    if (compteur_r <= 0): \n",
    "        compteur_r = 0\n",
    "        return compteur_r\n",
    "    \n",
    "    elif (compteur_r > nbreplace):\n",
    "        compteur_r = nbreplace\n",
    "        return compteur_r\n",
    "    \n",
    "    else: \n",
    "        return compteur_r"
   ]
  },
  {
   "cell_type": "code",
   "execution_count": 76,
   "metadata": {},
   "outputs": [],
   "source": [
    "def fonction_compteur_h(compteur_h, nbreplace):\n",
    "    \n",
    "    if (compteur_h <= 0): \n",
    "        compteur_h = 0\n",
    "        return compteur_h\n",
    "    \n",
    "    elif (compteur_h > nbreplace):\n",
    "        compteur_h = nbreplace\n",
    "        return compteur_h\n",
    "    \n",
    "    else: \n",
    "        return compteur_h"
   ]
  },
  {
   "cell_type": "code",
   "execution_count": 77,
   "metadata": {},
   "outputs": [],
   "source": [
    "def effet_crise(n ,prixr ,prixh ,nbreplace ,esp ,rep, n2, n3):\n",
    "   \n",
    "    #robot:list[int]\n",
    "    robot = [0]\n",
    "    \n",
    "    #compteurr:int\n",
    "    compteur_r = 0\n",
    "    \n",
    "    #compteurh:int\n",
    "    compteur_h = nbreplace\n",
    "    \n",
    "    #humain:list[int]\n",
    "    humain = [nbreplace]\n",
    "    \n",
    "    #evoprix:list[int]\n",
    "    evoprix = evolution_prix(prixr,n)\n",
    "    \n",
    "    #i:int\n",
    "    i = 0\n",
    "    \n",
    "    while (i <= n2):\n",
    "        \n",
    "        prixr=evoprix[i]\n",
    "        \n",
    "        #ad:int\n",
    "        ad=advantage(prixr, prixh, esp, rep)\n",
    "            \n",
    "        \n",
    "        if (1>ad):\n",
    "            \n",
    "            compteur_h = compteur_h - 1   # diminue compteur humain\n",
    "            compteur_r = compteur_r + 1 # augmente compteur robot\n",
    "            \n",
    "            robot.append(compteur_r)\n",
    "            humain.append(compteur_h)\n",
    "\n",
    "            i=i+1\n",
    "           \n",
    "            \n",
    "        else:\n",
    " \n",
    "            compteur_h = compteur_h + 1 \n",
    "            humain.append(fonction_compteur_h(compteur_h, nbreplace))\n",
    "        \n",
    "            compteur_r = compteur_r - 1\n",
    "            robot.append(fonction_compteur_r(compteur_r, nbreplace))\n",
    "            i=i+1\n",
    "    \n",
    "    #x:int\n",
    "    x=n2\n",
    "    \n",
    "    \n",
    "    while (x < n3):\n",
    "        \n",
    "        prixr = evoprix[x]\n",
    "        coef = random.randint(1,3)\n",
    "        prixh = prixh+((prixh*coef)//100)\n",
    "        ad = advantage(prixr, prixh, esp, rep)\n",
    "        \n",
    "        if( x == n2):\n",
    "            \n",
    "            prixr = evoprix[x]\n",
    "            coef = random.randint(40,50)\n",
    "            prixh = prixh-((prixh*coef)//100)\n",
    "            ad = advantage(prixr, prixh, esp, rep)\n",
    "            \n",
    "            if (1>ad):\n",
    "            \n",
    "                compteur_h = compteur_h-1  # diminue compteur humain\n",
    "                humain.append(fonction_compteur_h(compteur_h, nbreplace))\n",
    "        \n",
    "                compteur_r = compteur_r + 1 # augmente compteur robot\n",
    "                robot.append(fonction_compteur_r(compteur_r, nbreplace))\n",
    "                x = x+1\n",
    "           \n",
    "            \n",
    "            else:\n",
    " \n",
    "                compteur_h = compteur_h + 1 \n",
    "                humain.append(fonction_compteur_h(compteur_h, nbreplace))\n",
    "        \n",
    "                compteur_r = compteur_r - 1\n",
    "                robot.append(fonction_compteur_r(compteur_r, nbreplace))\n",
    "                x = x+1\n",
    "        \n",
    "        else:\n",
    "    \n",
    "            if (1>ad):\n",
    "            \n",
    "                compteur_h = compteur_h-1  # diminue compteur humain\n",
    "                humain.append(fonction_compteur_h(compteur_h, nbreplace))\n",
    "        \n",
    "                compteur_r = compteur_r + 1 # augmente compteur robot\n",
    "                robot.append(fonction_compteur_r(compteur_r, nbreplace))\n",
    "                x = x+1\n",
    "           \n",
    "            \n",
    "            else:\n",
    " \n",
    "                compteur_h = compteur_h + 1 \n",
    "                humain.append(fonction_compteur_h(compteur_h, nbreplace))\n",
    "        \n",
    "                compteur_r = compteur_r - 1\n",
    "                robot.append(fonction_compteur_r(compteur_r, nbreplace))\n",
    "                x = x+1\n",
    "                \n",
    "    #y:int\n",
    "    y = n3\n",
    "    \n",
    "    while (y <= n):\n",
    "        \n",
    "        prixr=evoprix[y]\n",
    "        coef = random.randint(-3,3)\n",
    "        prixh = prixh+((prixh*coef)//100)\n",
    "        ad = advantage(prixr, prixh, esp, rep)\n",
    " \n",
    "        if (1>ad):\n",
    "            \n",
    "            compteur_h = compteur_h-1  # diminue compteur humain\n",
    "            humain.append(fonction_compteur_h(compteur_h, nbreplace))\n",
    "        \n",
    "            compteur_r = compteur_r + 1 # augmente compteur robot\n",
    "            robot.append(fonction_compteur_r(compteur_r, nbreplace))\n",
    "            y=y+1\n",
    "           \n",
    "            \n",
    "        else:\n",
    " \n",
    "            compteur_h = compteur_h + 1 \n",
    "            humain.append(fonction_compteur_h(compteur_h, nbreplace))\n",
    "    \n",
    "            compteur_r = compteur_r - 1\n",
    "            robot.append(fonction_compteur_r(compteur_r, nbreplace))\n",
    "            y=y+1\n",
    "        \n",
    "            \n",
    "    return (robot, humain)"
   ]
  },
  {
   "cell_type": "code",
   "execution_count": 78,
   "metadata": {},
   "outputs": [],
   "source": [
    "def plot_effet_crise(n ,prixr ,prixh ,nbreplace ,esp ,rep, n2, n3):\n",
    "    plt.title(\"Robotisation des transports\")\n",
    "    list_1, list_2 = effet_crise(n ,prixr ,prixh ,nbreplace ,esp ,rep, n2, n3)\n",
    "    plt.plot(list_2, label=\"humains\")\n",
    "    plt.plot(list_1, label=\"robots\")\n",
    "    plt.ylabel(\"Evolution du nombre de place\")\n",
    "    plt.xlabel(\"Annees\")\n",
    "    plt.legend()\n",
    "    plt.show()"
   ]
  },
  {
   "cell_type": "code",
   "execution_count": 82,
   "metadata": {},
   "outputs": [
    {
     "data": {
      "image/png": "[encoded data removed]",
      "text/plain": [
       "<Figure size 432x288 with 1 Axes>"
      ]
     },
     "metadata": {
      "needs_background": "light"
     },
     "output_type": "display_data"
    }
   ],
   "source": [
    "plot_effet_crise(100, 500, 300, 100, 2, 1, 50, 80)"
   ]
  },
  {
   "cell_type": "code",
   "execution_count": null,
   "metadata": {},
   "outputs": [],
   "source": []
  }
 ],
 "metadata": {
  "kernelspec": {
   "display_name": "Python 3",
   "language": "python",
   "name": "python3"
  },
  "language_info": {
   "codemirror_mode": {
    "name": "ipython",
    "version": 3
   },
   "file_extension": ".py",
   "mimetype": "text/x-python",
   "name": "python",
   "nbconvert_exporter": "python",
   "pygments_lexer": "ipython3",
   "version": "3.7.1"
  }
 },
 "nbformat": 4,
 "nbformat_minor": 2
}
