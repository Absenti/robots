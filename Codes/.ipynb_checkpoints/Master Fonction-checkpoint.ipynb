{
 "cells": [
  {
   "cell_type": "markdown",
   "metadata": {},
   "source": [
    "En réunissant les fonctions et modélisations de tout les autres notebook, on crée une fonction allant nous permettre de nous approcher le plus possible de notre objectif étant la modélisation la plus générale et réaliste possible.\n",
    "\n",
    "On récupère dans un premier temps les fonctions liées à la partie économique."
   ]
  },
  {
   "cell_type": "code",
   "execution_count": 1,
   "metadata": {},
   "outputs": [],
   "source": [
    "import math\n",
    "import random\n",
    "\n",
    "def evolution_prix (robots_prix,nb_annees, min, max):\n",
    "    liste_robots_prix = list()\n",
    "    liste_robots_prix.append(robots_prix)\n",
    "    \n",
    "    i = 0\n",
    "    while (i < nb_annees): \n",
    "        if (i<nb_annees//2):\n",
    "            min = min + 0.001\n",
    "            max = max + 0.001\n",
    "            coef_random = random.uniform(min,max)\n",
    "            liste_robots_prix.append(liste_robots_prix[i] - (liste_robots_prix[i])*coef_random//100)\n",
    "            i = i + 1\n",
    "        elif ( i >= nb_annees//2):\n",
    "            min = min \n",
    "            max = max - 0.004\n",
    "            coef_random = random.uniform(min,max)\n",
    "            liste_robots_prix.append(liste_robots_prix[i] - (liste_robots_prix[i])*coef_random//100)\n",
    "            i = i + 1\n",
    "        \n",
    "    return liste_robots_prix"
   ]
  },
  {
   "cell_type": "code",
   "execution_count": 2,
   "metadata": {},
   "outputs": [
    {
     "name": "stdout",
     "output_type": "stream",
     "text": [
      "[120000, 119194.0, 118285.0, 117468.0, 115863.0, 114974.0, 113897.0, 113130.0, 111474.0, 109984.0, 109524.0, 108632.0, 107973.0, 107460.0, 107177.0, 106491.0, 105995.0, 105170.0, 104729.0, 103815.0, 103789.0, 103572.0, 103169.0, 102347.0, 101060.0, 100249.0, 99509.0, 98813.0, 97344.0, 97288.0, 96964.0, 95876.0, 95701.0, 94812.0, 94679.0, 94557.0, 94412.0, 93096.0, 92983.0, 91942.0, 91649.0, 91166.0, 90669.0, 90197.0, 89056.0, 87833.0, 86591.0, 86153.0, 85576.0, 85221.0, 84699.0]\n"
     ]
    }
   ],
   "source": [
    "liste = evolution_prix(120000,50, 0, 1.5)\n",
    "print(liste)"
   ]
  },
  {
   "cell_type": "code",
   "execution_count": 7,
   "metadata": {},
   "outputs": [
    {
     "data": {
      "image/png": "[encoded data removed]",
      "text/plain": [
       "<Figure size 432x288 with 1 Axes>"
      ]
     },
     "metadata": {
      "needs_background": "light"
     },
     "output_type": "display_data"
    }
   ],
   "source": [
    "import matplotlib.pyplot as plt\n",
    "\n",
    "liste = evolution_prix(120000,49,0,1.5)\n",
    "\n",
    "plt.plot(liste)\n",
    "plt.xlabel(\"Generation\")\n",
    "plt.ylabel(\"Prix d'un robot\")\n",
    "plt.show()"
   ]
  },
  {
   "cell_type": "code",
   "execution_count": null,
   "metadata": {},
   "outputs": [],
   "source": [
    "import random\n",
    "def econmie_entreprise (budget_initial,prix_robots, nb_annees, demande, concurrents):\n",
    "    \n",
    "    min = 0\n",
    "    max = 1\n",
    "    var_demande = demande\n",
    "    var_concurrents = concurrents\n",
    "    i = 0\n",
    "    liste_budget = list()\n",
    "    liste_budget.append(budget_initial)\n",
    "    budget = budget_initial\n",
    "    frais = prix_robots/100*40\n",
    "    \n",
    "    while (i != nb_annees):\n",
    "        proba_vente = random.uniform((min+var_demande-var_concurrents),(max+var_demande-var_concurrents))\n",
    "        if (proba_vente > 0.5):\n",
    "            budget = budget + prix_robots - frais\n",
    "            liste_budget.append(budget)\n",
    "        else:\n",
    "            budget = budget - frais\n",
    "            liste_budget.append(budget)\n",
    "            \n",
    "        i = i + 1\n",
    "        \n",
    "    return liste_budget"
   ]
  },
  {
   "cell_type": "code",
   "execution_count": null,
   "metadata": {},
   "outputs": [],
   "source": [
    "liste = econmie_entreprise(100000,100,100,0.23,0.35)\n",
    "print(liste)"
   ]
  },
  {
   "cell_type": "code",
   "execution_count": null,
   "metadata": {},
   "outputs": [],
   "source": [
    "import matplotlib.pyplot as plt\n",
    "\n",
    "liste = econmie_entreprise(100000,10000,100,0.7,0.5)\n",
    "plt.plot(liste)\n",
    "plt.xlabel(\"Generation\")\n",
    "plt.ylabel(\"Budget\")\n",
    "plt.show()"
   ]
  },
  {
   "cell_type": "code",
   "execution_count": null,
   "metadata": {},
   "outputs": [],
   "source": [
    "import random\n",
    "def econmie_entreprise_Final (budget_initial,prix_robots, nb_annees, demande, concurrents):\n",
    "    \n",
    "    min = 0\n",
    "    max = 1\n",
    "    var_demande = demande\n",
    "    var_concurrents = concurrents\n",
    "    var_prix_robots = prix_robots\n",
    "    i = 0\n",
    "    liste_budget = list()\n",
    "    liste_budget.append(budget_initial)\n",
    "    budget = budget_initial\n",
    "    frais = prix_robots/100*30\n",
    "    \n",
    "    while (i != nb_annees):\n",
    "        proba_vente = random.uniform((min+var_demande-var_concurrents),(max+var_demande-var_concurrents))\n",
    "        if (proba_vente > 0.5):\n",
    "            budget = budget + var_prix_robots - frais\n",
    "            liste_budget.append(budget)\n",
    "        else:\n",
    "            budget = budget - frais\n",
    "            liste_budget.append(budget)\n",
    "            \n",
    "        i = i + 1\n",
    "        \n",
    "        random_var = random.uniform(0,100)\n",
    "        if random_var > 80:\n",
    "            var_demande = var_demande + 0.02\n",
    "        elif random_var < 20:\n",
    "            var_concurrents = var_concurrents + 0.02\n",
    "        elif random_var < 1:\n",
    "            frais = frais - 0.3 * frais\n",
    "        elif random_var < 1:\n",
    "            var_demande = 0\n",
    "            \n",
    "        min1 = 0\n",
    "        max1 = 1.5\n",
    "            \n",
    "        if (i<nb_annees//2):\n",
    "            min1 = min1 + 0.001\n",
    "            max1 = max1 + 0.001\n",
    "            coef_random = random.uniform(min1,max1)\n",
    "            var_prix_robots = var_prix_robots - var_prix_robots*coef_random//100\n",
    "        elif (i >= nb_annees//2):\n",
    "            min1 = min1\n",
    "            max1 = max1 + 0.1\n",
    "            coef_random = random.uniform(min1,max1)\n",
    "            var_prix_robots = var_prix_robots - var_prix_robots*coef_random//100\n",
    "            \n",
    "    return liste_budget"
   ]
  },
  {
   "cell_type": "code",
   "execution_count": null,
   "metadata": {},
   "outputs": [],
   "source": [
    "import matplotlib.pyplot as plt\n",
    "\n",
    "liste = econmie_entreprise_Final(100000,7000,100,0.5,0.5)\n",
    "plt.plot(liste)\n",
    "plt.xlabel(\"Generation\")\n",
    "plt.ylabel(\"Budget\")\n",
    "plt.show()"
   ]
  }
 ],
 "metadata": {
  "kernelspec": {
   "display_name": "Python 3",
   "language": "python",
   "name": "python3"
  },
  "language_info": {
   "codemirror_mode": {
    "name": "ipython",
    "version": 3
   },
   "file_extension": ".py",
   "mimetype": "text/x-python",
   "name": "python",
   "nbconvert_exporter": "python",
   "pygments_lexer": "ipython3",
   "version": "3.7.1"
  }
 },
 "nbformat": 4,
 "nbformat_minor": 2
}
