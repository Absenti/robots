{
 "cells": [
  {
   "cell_type": "code",
   "execution_count": 1,
   "metadata": {},
   "outputs": [],
   "source": [
    "import numpy as np\n",
    "import pandas as pd\n",
    "import matplotlib.pyplot as plt\n",
    "from matplotlib import pylab\n",
    "from scipy.stats import linregress\n",
    "#Ajustement linéaire\n",
    "from scipy.optimize import curve_fit\n",
    "#Ajustement exponentiel"
   ]
  },
  {
   "cell_type": "code",
   "execution_count": 2,
   "metadata": {},
   "outputs": [],
   "source": [
    "#Permet de connaitre la droite d'evolution lineaire a*x+b selon 1 dico (année : valeur)\n",
    "def evolution_lineaire_dico (D, annee_fin):\n",
    "    \"\"\"dict[int:int] * int -> dict[int:float]\"\"\"\n",
    "    #a1 : number, b1 : number, i : int, a : float, b : float, newlistex : list[int], rho : float,x : float, y : float\n",
    "    #k : int, v : int\n",
    "    liste2=[]\n",
    "    newlistex=[]\n",
    "    i = 0\n",
    "    for k in D : \n",
    "        i = i+1\n",
    "        newlistex.append(i)\n",
    "        liste2.append(D[k])\n",
    "        \n",
    "    a1 = np.array(newlistex)\n",
    "    b1 = np.array(liste2)\n",
    "    (a,b,rho,x,y)= linregress(a1,b1)\n",
    "    \n",
    "    #k int, v : number, donnee : dict[int:float]\n",
    "    k = 0\n",
    "    j = annee_fin\n",
    "    donnee = dict()\n",
    "    while j > 0 : \n",
    "        k = k +1 \n",
    "        donnee[k] = round((a*k)+b, 2)\n",
    "        if (donnee[k] < 0 and (a*k)< 0) :\n",
    "            print(\"La derniere année est\",k+2018)\n",
    "            return donnee\n",
    "        \n",
    "        j = j-1\n",
    "    return donnee\n",
    "        "
   ]
  },
  {
   "cell_type": "code",
   "execution_count": 3,
   "metadata": {},
   "outputs": [],
   "source": [
    "#Permet de connaitre la droite d'evolution expo selon 1 dico (année : valeur)\n",
    "def evolution_expo_dico (D, annee_fin):\n",
    "    \"\"\"dict[int:int] * int -> dict[int:float]\n",
    "    Hyp : Adapter à partir d'une regression lineaire\"\"\"\n",
    "    #a1 : number, b1 : number, i : int, a : float, b : float, newlistex : list[int], rho : float,x : float, y : float\n",
    "    #k : int, v : int\n",
    "    liste2=[]\n",
    "    newlistex=[]\n",
    "    temp = 0\n",
    "    i = 0\n",
    "    for k in D : \n",
    "        i = i+1\n",
    "        newlistex.append(i)\n",
    "        liste2.append(D[k])\n",
    "        temp = i+1 \n",
    "        \n",
    "        \n",
    "    a1 = np.array(newlistex)\n",
    "    b1 = np.log(liste2)\n",
    "    (a,b,rho,x,y)= linregress(a1,b1)\n",
    "    \n",
    "    #k int, v : number, donnee : dict[int:float]\n",
    "    k = temp\n",
    "    j = annee_fin\n",
    "    donnee = dict()\n",
    "    while j > 0 : \n",
    "        \n",
    "        donnee[k] = round(np.exp(a*k)*np.exp(b),2)\n",
    "        if (donnee[k] < 0 and (a*k)< 0) :\n",
    "            print(\"La derniere année est\",k)\n",
    "            return donnee\n",
    "        k=k+1\n",
    "        j = j-1\n",
    "    return donnee\n",
    "        "
   ]
  },
  {
   "cell_type": "code",
   "execution_count": null,
   "metadata": {},
   "outputs": [],
   "source": [
    "def evolution_expo_dico_2 (D, annee_fin):\n",
    "    \"\"\"dict[int:int] * int -> dict[int:float]\n",
    "    Hyp : Adapter à partir de la fonction polytfit de numpy\"\"\"\n",
    "    #a1 : number, b1 : number, i : int, a : float, b : float, newlistex : list[int], rho : float,x : float, y : float\n",
    "    #k : int, v : int\n",
    "    liste2=[]\n",
    "    newlistex=[]\n",
    "    temp = 0\n",
    "    i = 0\n",
    "    for k in D : \n",
    "        i = i+1\n",
    "        newlistex.append(i)\n",
    "        liste2.append(D[k])\n",
    "        temp = k+1 \n",
    "        temp2 = i+1\n",
    "        \n",
    "        \n",
    "    x = np.array(newlistex)\n",
    "    y = np.log(liste2)\n",
    "    (a,b) = np.polyfit(x, y,1)\n",
    "    \n",
    "    #k int, v : number, donnee : dict[int:float]\n",
    "    k = 1\n",
    "    j = annee_fin\n",
    "    donnee = dict()\n",
    "    while j > 0 : \n",
    "        donnee[k] = round(np.exp(a*k)*np.exp(b),2)\n",
    "        k=k+1\n",
    "        temp2 = temp2 +1\n",
    "        j = j-1\n",
    "    return donnee\n"
   ]
  },
  {
   "cell_type": "code",
   "execution_count": 4,
   "metadata": {},
   "outputs": [],
   "source": [
    "#Renvoi un dico de l'evolution a*x+b (valeur) selon l'année (clé)\n",
    "def ratio(D_humain, D_robot) : \n",
    "    \"\"\"dict[int:float] * dict[int:float] -> dict[int : float]\"\"\"\n",
    "    # k : int, v : float, a : int, b : float, c : float, D3 : dict[int:float]\n",
    "    c = 0\n",
    "    D3 = dict() \n",
    "    for k in D_humain : \n",
    "        for a in D_robot: \n",
    "            if (a == k) : \n",
    "                c=D_robot[a]/D_humain[k]\n",
    "                D3[a] = c \n",
    "    return D3 "
   ]
  },
  {
   "cell_type": "code",
   "execution_count": 69,
   "metadata": {},
   "outputs": [],
   "source": [
    "#Fonction plot a partir de dico\n",
    "\n",
    "def dico_to_graphic (D) : \n",
    "    \"\"\"dict[int:float] * annee_ref \n",
    "    Hyp : annee_ref = derniere année prise pour les données de reference\"\"\"\n",
    "    #Lx : list[int], Ly : list[float], k : int, v : valeur\n",
    "    Lx = []\n",
    "    Ly = []\n",
    "    for k in D: \n",
    "        Lx.append(k) \n",
    "        Ly.append(D[k])\n",
    "        \n",
    "    plt.plot(Lx,Ly)\n",
    "    plt.xlabel(\"Annee\")\n",
    "    plt.ylabel(\"% de places des robots\")\n",
    "    plt.show()\n",
    "\n",
    "def deux_dico_to_graphic(Dico_robot,Dico_humain,annee_ref) : \n",
    "    Lx1 = [] \n",
    "    Lx2 = []\n",
    "    Ly1 = []\n",
    "    Ly2 = []\n",
    "    \n",
    "    for k in Dico_robot: \n",
    "        Lx1.append(k+annee_ref) \n",
    "        Ly1.append(Dico_robot[k])\n",
    "    for k in Dico_humain: \n",
    "        Lx2.append(k+annee_ref) \n",
    "        Ly2.append(Dico_humain[k])\n",
    "    \n",
    "    i=0\n",
    "    temp = 0\n",
    "    condition1 = True\n",
    "    while (condition1):\n",
    "        if Ly1[i] >= Ly2[i] : \n",
    "            condition1= False\n",
    "        i=i+1\n",
    "    i=i-1 \n",
    "    \n",
    "    # 1 : robot et 2 : humain \n",
    "    print(\"L'intersection se situe en \",(i+annee_ref))\n",
    "    plt.plot(Lx2,Ly2, label='Humain')\n",
    "    plt.plot(Lx1,Ly1, label = 'Robot')\n",
    "    plt.legend(loc='lower right')\n",
    "    plt.xlabel(\"Annee\")\n",
    "    plt.ylabel(\"Places\")\n",
    "    plt.show()\n",
    "\n",
    "    "
   ]
  },
  {
   "cell_type": "code",
   "execution_count": 108,
   "metadata": {},
   "outputs": [],
   "source": [
    "def decroi_lineaire_to_expo(dlineaire,dexpo) : \n",
    "    \"\"\"Fonction lineaire decroissante et exponentielle croissante\n",
    "    A l'intersection des deux courbes la décroisssance se fait au rythme de la fonction exponentielle\n",
    "    Mais adaptable a n'importe quelle fonction croissante et decroissante \n",
    "    A condition que le premier terme de la decroissante soit superieur à celui de la croissante\"\"\"\n",
    "    lineairex = []\n",
    "    lineairey = []\n",
    "    expox = []\n",
    "    expoy=[]\n",
    "    \n",
    "    for k in dlineaire: \n",
    "        lineairex.append(k) \n",
    "        lineairey.append(dlineaire[k])\n",
    "    for k in dexpo : \n",
    "        expox.append(k)\n",
    "        expoy.append(dexpo[k])\n",
    "    \n",
    "    new_expoy = []\n",
    "    new_expox = []\n",
    "    temp = len(expox)\n",
    "    if (len(expox) < len(lineairex)) :\n",
    "        temp = len(lineairex)\n",
    "    \n",
    "    i = 0\n",
    "    difference = 0.0 \n",
    "    condition1 = True\n",
    "    while ((i < temp)and condition1) : \n",
    "        if (lineairey[i] <= 0):\n",
    "            condition1= False\n",
    "        if (lineairey[i] <= expoy[i] and condition1) :\n",
    "            difference = expoy[i+1] - expoy[i]\n",
    "            lineairey[i+1] = lineairey[i] - difference\n",
    "        if condition1 : \n",
    "            new_expoy.append(expoy[i])\n",
    "            new_expox.append(expox[i])\n",
    "            i=i+1\n",
    "    j=0\n",
    "    \n",
    "    #Transforme les listes en dico \n",
    "    j=0\n",
    "    dlin = dict()\n",
    "    dexp = dict()\n",
    "    \n",
    "    i = 0 \n",
    "    \n",
    "    while (lineairey[i] > 0 ) : \n",
    "        dlin[lineairex[i]] = lineairey[i]\n",
    "        dexp[new_expox[i]] = new_expoy[i]\n",
    "        i = i +1\n",
    "    return (dlin,dexp)"
   ]
  },
  {
   "cell_type": "code",
   "execution_count": 8,
   "metadata": {},
   "outputs": [],
   "source": [
    "def annees_ratio(D):\n",
    "    \"\"\"dict[int:float] -> \"\"\"\n",
    "    #k : int, v : float\n",
    "    #annee_depart : int, annee_milieu : int, annee_fin : int, compt : int, boole : bool\n",
    "    longueur_dico = len(D)-1\n",
    "    compt = 0\n",
    "    boole = True\n",
    "    boole2 = True\n",
    "    annee_milieu = 0\n",
    "    annee_fin = 0 \n",
    "    for k,v in D.items(): \n",
    "        if (boole2 == True) : \n",
    "            annee_depart = k \n",
    "            boole2 = False\n",
    "        if (compt == longueur_dico) : \n",
    "            annee_fin = k \n",
    "        if (v > 0.5 and boole == True) : \n",
    "            annee_milieu = k \n",
    "            boole = False\n",
    "        compt = compt +1 \n",
    "    print(\"En\",annee_depart+2000,\"le ratio est de\",abs(D[annee_depart]))\n",
    "    print(\"En\",annee_milieu+2018,\"le ratio est de\", abs(D[annee_milieu]))\n",
    "    print(\"En\",annee_fin+2000,\"le ratio est de 1\")\n",
    "        "
   ]
  },
  {
   "cell_type": "code",
   "execution_count": 48,
   "metadata": {},
   "outputs": [],
   "source": [
    "def evolution_expo_dico_2 (D, annee_fin):\n",
    "    \"\"\"dict[int:int] * int -> dict[int:float]\"\"\"\n",
    "    #a1 : number, b1 : number, i : int, a : float, b : float, newlistex : list[int], rho : float,x : float, y : float\n",
    "    #k : int, v : int\n",
    "    liste2=[]\n",
    "    newlistex=[]\n",
    "    temp = 0\n",
    "    i = 0\n",
    "    for k in D : \n",
    "        i = i+1\n",
    "        newlistex.append(i)\n",
    "        liste2.append(D[k])\n",
    "        temp = k+1 \n",
    "        temp2 = i+1\n",
    "        \n",
    "        \n",
    "    x = np.array(newlistex)\n",
    "    y = np.log(liste2)\n",
    "    (a,b) = np.polyfit(x, y,1)\n",
    "    \n",
    "    #k int, v : number, donnee : dict[int:float]\n",
    "    k = 1\n",
    "    j = annee_fin\n",
    "    donnee = dict()\n",
    "    while j > 0 : \n",
    "        donnee[k] = round(np.exp(a*k)*np.exp(b),2)\n",
    "        k=k+1\n",
    "        temp2 = temp2 +1\n",
    "        j = j-1\n",
    "    return donnee\n",
    "    \n"
   ]
  },
  {
   "cell_type": "code",
   "execution_count": 110,
   "metadata": {},
   "outputs": [
    {
     "name": "stdout",
     "output_type": "stream",
     "text": [
      "a et b =  0.322653355140113 6.268817021583099\n",
      "L'intersection se situe en  2022\n"
     ]
    },
    {
     "data": {
      "image/png": "[encoded data removed]",
      "text/plain": [
       "<Figure size 432x288 with 1 Axes>"
      ]
     },
     "metadata": {
      "needs_background": "light"
     },
     "output_type": "display_data"
    }
   ],
   "source": [
    "travailleur_agricole= {2006 : 902045, 2007:899094,2008:896143,2009:893192,2010:891239,\n",
    "                       2011:890199,2012:889159,2013:888119,2014:887079,2015:886039,2016:885000}\n",
    "\n",
    "\n",
    "robot_agricole = {2001:100,2002:1000,2003:2000,2004:3000,2005:4000,2006:6000, \n",
    "                 2007:8500,2008:11000,2009:14000,2010:17000,2011:20000,2012:23500,2013:28000\n",
    "                 ,2014:30500,2015:34960}\n",
    "\n",
    "evolution_travailleur_agricole = evolution_lineaire_dico(travailleur_agricole,30)\n",
    "evolution_robot_agricole = evolution_expo_dico_2(robot_agricole,30)\n",
    "\n",
    "(dhumain,drobot) = decroi_lineaire_to_expo(evolution_travailleur_agricole,evolution_robot_agricole)\n",
    "deux_dico_to_graphic(drobot,dhumain,2000)"
   ]
  },
  {
   "cell_type": "code",
   "execution_count": 49,
   "metadata": {},
   "outputs": [],
   "source": [
    "amazon_humain={2015:230800,2016:341400,2017:566000}\n",
    "amazon_robot = {1:30000,2:45000, 3:120000}"
   ]
  },
  {
   "cell_type": "code",
   "execution_count": 75,
   "metadata": {},
   "outputs": [
    {
     "name": "stdout",
     "output_type": "stream",
     "text": [
      "a et b =  0.6931471805599428 9.519911455933759\n"
     ]
    }
   ],
   "source": [
    "evolution_amazon_robot=evolution_expo_dico_2(amazon_robot,7)\n",
    "evolution_amazon_humain=evolution_lineaire_dico(amazon_humain,7)"
   ]
  },
  {
   "cell_type": "code",
   "execution_count": 76,
   "metadata": {},
   "outputs": [
    {
     "name": "stdout",
     "output_type": "stream",
     "text": [
      "L'intersection se situe en  2021\n"
     ]
    },
    {
     "data": {
      "image/png": "[encoded data removed]",
      "text/plain": [
       "<Figure size 432x288 with 1 Axes>"
      ]
     },
     "metadata": {
      "needs_background": "light"
     },
     "output_type": "display_data"
    }
   ],
   "source": [
    "deux_dico_to_graphic(evolution_amazon_robot,evolution_amazon_humain,2015)\n",
    "\"\"\"Evolution du nombre de salarié chez amazon comparer à l'evolution de celui des robot \"\"\""
   ]
  }
 ],
 "metadata": {
  "kernelspec": {
   "display_name": "Python 3",
   "language": "python",
   "name": "python3"
  },
  "language_info": {
   "codemirror_mode": {
    "name": "ipython",
    "version": 3
   },
   "file_extension": ".py",
   "mimetype": "text/x-python",
   "name": "python",
   "nbconvert_exporter": "python",
   "pygments_lexer": "ipython3",
   "version": "3.7.1"
  }
 },
 "nbformat": 4,
 "nbformat_minor": 2
}
