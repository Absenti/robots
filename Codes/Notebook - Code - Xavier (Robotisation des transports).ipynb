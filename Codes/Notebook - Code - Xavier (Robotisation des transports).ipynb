{
 "cells": [
  {
   "cell_type": "markdown",
   "metadata": {
    "collapsed": true
   },
   "source": [
    "Il nous faut faire une fonction tant que avec une evolution des remplacements dans les transports en fonction du prix\n",
    "donc 2 facteurs le prix d un robot et le prix d un humain.\n",
    "\n",
    "On a \"n\" le nombre de robot, \"prixr\" le prix d un robot, \"prix\" le cout d'un humain et \"nbreplace\" le nombre de place qu sein de l'entreprise étudiée."
   ]
  },
  {
   "cell_type": "code",
   "execution_count": 1,
   "metadata": {},
   "outputs": [],
   "source": [
    "import random\n",
    "import math\n",
    "import numpy as np\n",
    "import matplotlib.pyplot as plt\n",
    "%matplotlib inline     \n",
    "from matplotlib import animation"
   ]
  },
  {
   "cell_type": "code",
   "execution_count": 2,
   "metadata": {},
   "outputs": [],
   "source": [
    "def evolution(n ,prixr ,prixh ,nbreplace):\n",
    "    \n",
    "    #robot:list[int]\n",
    "    robot=[0]\n",
    "    \n",
    "    #compteurr:int\n",
    "    compteur_r=0\n",
    "    \n",
    "    #compteurh:int\n",
    "    compteur_h=nbreplace\n",
    "    \n",
    "    #humain:list[int]\n",
    "    humain=[nbreplace]\n",
    "\n",
    "    for i in range(n):\n",
    "        \n",
    "        if (prixr <= prixh):    \n",
    "            compteur_h = compteur_h-1  # dimin compteur humain\n",
    "            humain.append(compteur_h)\n",
    "    \n",
    "            compteur_r = compteur_r + 1 # augment compteur robot\n",
    "            robot.append(compteur_r)\n",
    "\n",
    "        else :\n",
    "\n",
    "            humain.append(compteur_h)\n",
    "            robot.append(compteur_r)\n",
    "            \n",
    "            \n",
    "    return (robot, humain)"
   ]
  },
  {
   "cell_type": "markdown",
   "metadata": {},
   "source": [
    "Pour plus de réalisme, il nous faut maintenant prendre en compte l'espérance de vie du robot et son coût de réparation et donc le possible avantage que ça apporte."
   ]
  },
  {
   "cell_type": "code",
   "execution_count": 3,
   "metadata": {},
   "outputs": [],
   "source": [
    "def advantage(prixr, prixh, esp, rep):\n",
    "    \n",
    "    #ctotalr:int\n",
    "    ctotalr = prixr + rep\n",
    "    \n",
    "    #ctotalh:int\n",
    "    ctotalh = prixh * esp\n",
    "    \n",
    "    return ctotalr/ctotalh\n",
    "    "
   ]
  },
  {
   "cell_type": "markdown",
   "metadata": {},
   "source": [
    "On réécrit la première fonction mais en prenant en compte l'avantage."
   ]
  },
  {
   "cell_type": "code",
   "execution_count": 4,
   "metadata": {},
   "outputs": [],
   "source": [
    "def new_evolution(n ,prixr ,prixh ,nbreplace ,esp ,rep):\n",
    "    #ad:int\n",
    "    \n",
    "    ad = advantage(prixr, prixh, esp, rep)\n",
    "   \n",
    "    # compteur_r : int\n",
    "    compteur_r=0\n",
    "    \n",
    "    # robot : list[int]\n",
    "    robot = list()\n",
    "    robot.append(compteur_r)\n",
    "    \n",
    "    # compteur_h : int\n",
    "    compteur_h=nbreplace\n",
    "    \n",
    "    # humain : list[int]\n",
    "    humain = list()\n",
    "    \n",
    "    \n",
    "    for i in range(n):\n",
    "        \n",
    "        \n",
    "        if (1 >= ad):\n",
    "            \n",
    "            compteur_h = compteur_h-1  # dimin compteur humain\n",
    "            humain.append(compteur_h)\n",
    "        \n",
    "            compteur_r = compteur_r + 1 # augment compteur robot\n",
    "            robot.append(compteur_r)\n",
    "\n",
    "        else:\n",
    "            \n",
    "            humain.append(compteur_h)\n",
    "            robot.append(compteur_r)\n",
    "            \n",
    "    return (robot, humain)"
   ]
  },
  {
   "cell_type": "code",
   "execution_count": 5,
   "metadata": {},
   "outputs": [
    {
     "data": {
      "text/plain": [
       "([0, 1, 2, 3, 4, 5, 6, 7, 8, 9, 10], [9, 8, 7, 6, 5, 4, 3, 2, 1, 0])"
      ]
     },
     "execution_count": 5,
     "metadata": {},
     "output_type": "execute_result"
    }
   ],
   "source": [
    "new_evolution(10, 5, 6, 10, 5, 1)"
   ]
  },
  {
   "cell_type": "markdown",
   "metadata": {},
   "source": [
    "Mais en économie, le prix baisse en fonction de la production donc on note par conséquent, une variation des prix du marché."
   ]
  },
  {
   "cell_type": "code",
   "execution_count": 6,
   "metadata": {},
   "outputs": [],
   "source": [
    "def evolution_prix(prixr,n):\n",
    "    \n",
    "    liste_robots_prix = []\n",
    "    \n",
    "    liste_robots_prix.append(prixr)\n",
    "    \n",
    "    i = 0\n",
    "      \n",
    "    while (i < n):\n",
    "        coef_demande = random.randint(-300,400)//100\n",
    "        liste_robots_prix.append((liste_robots_prix[i] - (liste_robots_prix[i]//100)*coef_demande))\n",
    "        i = i+1\n",
    "        \n",
    "    return liste_robots_prix"
   ]
  },
  {
   "cell_type": "code",
   "execution_count": 7,
   "metadata": {},
   "outputs": [
    {
     "data": {
      "text/plain": [
       "[600, 612, 618, 636, 654, 648, 636, 654, 648, 648, 648]"
      ]
     },
     "execution_count": 7,
     "metadata": {},
     "output_type": "execute_result"
    }
   ],
   "source": [
    "evolution_prix(600, 10)"
   ]
  },
  {
   "cell_type": "code",
   "execution_count": 8,
   "metadata": {},
   "outputs": [],
   "source": [
    "def plot_evolution_prix(prixr,n):\n",
    "    plt.title(\"Robotisation des transports\")\n",
    "    list_1= evolution_prix(600, 10)\n",
    "    plt.plot(list_1)\n",
    "    plt.ylabel(\"Evoltion du nombre de place\")\n",
    "    plt.xlabel(\"Annee\")\n",
    "    plt.show()"
   ]
  },
  {
   "cell_type": "code",
   "execution_count": 9,
   "metadata": {},
   "outputs": [
    {
     "data": {
      "image/png": "[encoded data removed]",
      "text/plain": [
       "<matplotlib.figure.Figure at 0x7fc209e85c50>"
      ]
     },
     "metadata": {},
     "output_type": "display_data"
    }
   ],
   "source": [
    "plot_evolution_prix(600, 10)"
   ]
  },
  {
   "cell_type": "markdown",
   "metadata": {},
   "source": [
    "On l'intègre à la fonction pour plus de réalisme."
   ]
  },
  {
   "cell_type": "code",
   "execution_count": 10,
   "metadata": {},
   "outputs": [],
   "source": [
    "def remplacement(n ,prixr ,prixh ,nbreplace ,esp ,rep):\n",
    "   \n",
    "    #robot:list[int]\n",
    "    robot=[0]\n",
    "    \n",
    "    #compteurr:int\n",
    "    compteur_r=0\n",
    "    \n",
    "    #compteurh:int\n",
    "    compteur_h=nbreplace\n",
    "    \n",
    "    #humain:list[int]\n",
    "    humain=[nbreplace]\n",
    "    \n",
    "    #evoprix:list[int]\n",
    "    evoprix=evolution_prix(prixr,n)\n",
    "    \n",
    "    #i:int\n",
    "    \n",
    "    for i in range(n):\n",
    "        \n",
    "        prixr = evoprix[i]\n",
    "        \n",
    "        #ad:int\n",
    "        ad = advantage(prixr, prixh, esp, rep)\n",
    "    \n",
    "        if (1>ad):\n",
    "            \n",
    "            compteur_h = compteur_h-1  # dimin compteur humain\n",
    "            humain.append(compteur_h)\n",
    "        \n",
    "            compteur_r = compteur_r + 1 # augment compteur robot\n",
    "            robot.append(compteur_r)\n",
    "           \n",
    "            \n",
    "        else:\n",
    " \n",
    "            humain.append(compteur_h)\n",
    "            robot.append(compteur_r)\n",
    "            \n",
    "            \n",
    "    return (robot, humain)\n"
   ]
  },
  {
   "cell_type": "code",
   "execution_count": 11,
   "metadata": {},
   "outputs": [
    {
     "data": {
      "text/plain": [
       "([0, 0, 1, 2, 3, 4, 5, 6, 7, 8, 9, 10, 11, 12, 13, 14, 15, 16, 17, 18, 19],\n",
       " [15, 15, 14, 13, 12, 11, 10, 9, 8, 7, 6, 5, 4, 3, 2, 1, 0, -1, -2, -3, -4])"
      ]
     },
     "execution_count": 11,
     "metadata": {},
     "output_type": "execute_result"
    }
   ],
   "source": [
    "remplacement(20, 600, 300, 15, 2, 1)"
   ]
  },
  {
   "cell_type": "markdown",
   "metadata": {},
   "source": [
    "Nous améliorons encore la fonction en supposant que si l'humain revient moins cher qu'un robot, on remplace le robot par un homme."
   ]
  },
  {
   "cell_type": "code",
   "execution_count": 12,
   "metadata": {},
   "outputs": [],
   "source": [
    "def new_remplacement(n ,prixr ,prixh ,nbreplace ,esp ,rep):\n",
    "   \n",
    "    #robot:list[int]\n",
    "    robot = [0]\n",
    "    \n",
    "    #compteurr:int\n",
    "    compteur_r = 0\n",
    "    \n",
    "    #compteurh:int\n",
    "    compteur_h = nbreplace\n",
    "    \n",
    "    #humain:list[int]\n",
    "    humain = [nbreplace]\n",
    "    \n",
    "    #evoprix:list[int]\n",
    "    evoprix = evolution_prix(prixr,n)\n",
    "    \n",
    "    #i:int\n",
    "    i = 0\n",
    "    \n",
    "    while ((i <= n) and (compteur_h >= 0) and (compteur_r >= 0)):\n",
    "        \n",
    "        prixr=evoprix[i]\n",
    "        \n",
    "        #ad:int\n",
    "        ad=advantage(prixr, prixh, esp, rep)\n",
    "    \n",
    "        if (1>ad):\n",
    "            \n",
    "            compteur_h = compteur_h-1  # diminue compteur humain\n",
    "            humain.append(compteur_h)\n",
    "        \n",
    "            compteur_r = compteur_r + 1 # augmente compteur robot\n",
    "            robot.append(compteur_r)\n",
    "            i=i+1\n",
    "           \n",
    "            \n",
    "        else:\n",
    " \n",
    "            compteur_h = compteur_h + 1 \n",
    "            humain.append(compteur_h)\n",
    "        \n",
    "            compteur_r = compteur_r - 1\n",
    "            robot.append(compteur_r)\n",
    "            i=i+1\n",
    "            \n",
    "            \n",
    "    return (robot, humain)\n"
   ]
  },
  {
   "cell_type": "code",
   "execution_count": 13,
   "metadata": {},
   "outputs": [
    {
     "name": "stdout",
     "output_type": "stream",
     "text": [
      "[0, 1, 2, 1, 0, -1]\n",
      "[15, 14, 13, 14, 15, 16]\n"
     ]
    }
   ],
   "source": [
    "new_remplacement(20, 580, 300, 15, 2, 1)\n",
    "c=new_remplacement(20, 580, 300, 15, 2, 1)\n",
    "print(c[0])\n",
    "print(c[1])\n"
   ]
  },
  {
   "cell_type": "code",
   "execution_count": 14,
   "metadata": {},
   "outputs": [],
   "source": [
    "def plot_new_generation(n ,prixr ,prixh ,nbreplace ,esp ,rep):\n",
    "    plt.title(\"Robotisation des transports\")\n",
    "    list_1, list_2 = new_remplacement(70, 580, 300, 15, 2, 1)\n",
    "    plt.plot(list_2)\n",
    "    plt.plot(list_1)\n",
    "    plt.ylabel(\"Evolution du nombre de place\")\n",
    "    plt.xlabel(\"Annee\")\n",
    "    plt.show()"
   ]
  },
  {
   "cell_type": "code",
   "execution_count": 15,
   "metadata": {},
   "outputs": [
    {
     "data": {
      "image/png": "[encoded data removed]",
      "text/plain": [
       "<matplotlib.figure.Figure at 0x7fc223ff0210>"
      ]
     },
     "metadata": {},
     "output_type": "display_data"
    }
   ],
   "source": [
    "plot_new_generation(70, 580, 300, 15, 2, 1)"
   ]
  },
  {
   "cell_type": "code",
   "execution_count": 16,
   "metadata": {},
   "outputs": [],
   "source": [
    "def effet_crise(n ,prixr ,prixh ,nbreplace ,esp ,rep, n2):\n",
    "   \n",
    "    #robot:list[int]\n",
    "    robot = [0]\n",
    "    \n",
    "    #compteurr:int\n",
    "    compteur_r = 0\n",
    "    \n",
    "    #compteurh:int\n",
    "    compteur_h = nbreplace\n",
    "    \n",
    "    #humain:list[int]\n",
    "    humain = [nbreplace]\n",
    "    \n",
    "    #evoprix:list[int]\n",
    "    evoprix = evolution_prix(prixr,n)\n",
    "    \n",
    "    #i:int\n",
    "    i = 0\n",
    "    \n",
    "    while ((i <= n2) and (compteur_h >= 0) and (compteur_r >= 0)):\n",
    "        \n",
    "        prixr=evoprix[i]\n",
    "        \n",
    "        #ad:int\n",
    "        ad=advantage(prixr, prixh, esp, rep)\n",
    "            \n",
    "        \n",
    "        if (1>ad):\n",
    "            \n",
    "            compteur_h = compteur_h-1  # diminue compteur humain\n",
    "            humain.append(compteur_h)\n",
    "        \n",
    "            compteur_r = compteur_r + 1 # augmente compteur robot\n",
    "            robot.append(compteur_r)\n",
    "            i=i+1\n",
    "           \n",
    "            \n",
    "        else:\n",
    " \n",
    "            compteur_h = compteur_h + 1 \n",
    "            humain.append(compteur_h)\n",
    "        \n",
    "            compteur_r = compteur_r - 1\n",
    "            robot.append(compteur_r)\n",
    "            i=i+1\n",
    "    \n",
    "    \n",
    "    #x:int\n",
    "    x = n-n2\n",
    "    \n",
    "    while ((x <= n) and (compteur_h >= 0) and (compteur_r >= 0)):\n",
    "        \n",
    "        prixr=evoprix[x]\n",
    "        coef = random.randint(1,3)\n",
    "        prixh = prixh+((prixh*coef)//100)\n",
    "        ad = advantage(prixr, prixh, esp, rep)\n",
    "        \n",
    "        if( x == n-n2):\n",
    "            \n",
    "            prixr = evoprix[x]\n",
    "            coef = random.randint(40,60)\n",
    "            prixh = prixh-((prixh*coef)//100)\n",
    "            ad = advantage(prixr, prixh, esp, rep)\n",
    "            \n",
    "            if (1>ad):\n",
    "            \n",
    "                compteur_h = compteur_h-1  # diminue compteur humain\n",
    "                humain.append(compteur_h)\n",
    "        \n",
    "                compteur_r = compteur_r + 1 # augmente compteur robot\n",
    "                robot.append(compteur_r)\n",
    "                x=x+1\n",
    "           \n",
    "            \n",
    "            else:\n",
    " \n",
    "                compteur_h = compteur_h + 1 \n",
    "                humain.append(compteur_h)\n",
    "        \n",
    "                compteur_r = compteur_r - 1\n",
    "                robot.append(compteur_r)\n",
    "                x=x+1\n",
    "        \n",
    "        else:\n",
    "    \n",
    "            if (1>ad):\n",
    "            \n",
    "                compteur_h = compteur_h-1  # diminue compteur humain\n",
    "                humain.append(compteur_h)\n",
    "        \n",
    "                compteur_r = compteur_r + 1 # augmente compteur robot\n",
    "                robot.append(compteur_r)\n",
    "                x=x+1\n",
    "           \n",
    "            \n",
    "            else:\n",
    " \n",
    "                compteur_h = compteur_h + 1 \n",
    "                humain.append(compteur_h)\n",
    "        \n",
    "                compteur_r = compteur_r - 1\n",
    "                robot.append(compteur_r)\n",
    "                x=x+1\n",
    "            \n",
    "            \n",
    "    return (robot, humain)\n"
   ]
  },
  {
   "cell_type": "code",
   "execution_count": 17,
   "metadata": {},
   "outputs": [],
   "source": [
    "def plot_effet_crise(n ,prixr ,prixh ,nbreplace ,esp ,rep, n2):\n",
    "    plt.title(\"Robotisation des transports\")\n",
    "    list_1, list_2 = effet_crise(n ,prixr ,prixh ,nbreplace ,esp ,rep, n2)\n",
    "    plt.plot(list_2, label=\"humains\")\n",
    "    plt.plot(list_1, label=\"robots\")\n",
    "    plt.ylabel(\"Evolution du nombre de place\")\n",
    "    plt.xlabel(\"Annees\")\n",
    "    plt.legend()\n",
    "    plt.show()"
   ]
  },
  {
   "cell_type": "code",
   "execution_count": 20,
   "metadata": {},
   "outputs": [
    {
     "data": {
      "image/png": "[encoded data removed]",
      "text/plain": [
       "<matplotlib.figure.Figure at 0x7fc222c7bc90>"
      ]
     },
     "metadata": {},
     "output_type": "display_data"
    }
   ],
   "source": [
    "plot_effet_crise(70, 580, 300, 15, 2, 1, 50)"
   ]
  }
 ],
 "metadata": {
  "kernelspec": {
   "display_name": "Python 3",
   "language": "python",
   "name": "python3"
  },
  "language_info": {
   "codemirror_mode": {
    "name": "ipython",
    "version": 3
   },
   "file_extension": ".py",
   "mimetype": "text/x-python",
   "name": "python",
   "nbconvert_exporter": "python",
   "pygments_lexer": "ipython3",
   "version": "3.7.1"
  }
 },
 "nbformat": 4,
 "nbformat_minor": 2
}
